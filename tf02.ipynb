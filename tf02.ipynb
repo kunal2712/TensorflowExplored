{
 "cells": [
  {
   "cell_type": "markdown",
   "metadata": {},
   "source": [
    "Variables"
   ]
  },
  {
   "cell_type": "code",
   "execution_count": 1,
   "metadata": {},
   "outputs": [],
   "source": [
    "import tensorflow as tf"
   ]
  },
  {
   "cell_type": "code",
   "execution_count": 2,
   "metadata": {},
   "outputs": [
    {
     "name": "stdout",
     "output_type": "stream",
     "text": [
      "[1. 2.]\n",
      "(2,)\n",
      "<dtype: 'float32'>\n"
     ]
    }
   ],
   "source": [
    "v1 = tf.Variable([1.0,2.0])\n",
    "print(v1.numpy())\n",
    "print(v1.shape)\n",
    "print(v1.dtype)"
   ]
  },
  {
   "cell_type": "code",
   "execution_count": 3,
   "metadata": {},
   "outputs": [
    {
     "name": "stdout",
     "output_type": "stream",
     "text": [
      "tf.Tensor([1. 2.], shape=(2,), dtype=float32)\n",
      "1\n"
     ]
    }
   ],
   "source": [
    "ten_v1 = tf.convert_to_tensor(v1)\n",
    "print(ten_v1)\n",
    "print(tf.argmax(ten_v1).numpy())  #returns the index of largest value"
   ]
  },
  {
   "cell_type": "code",
   "execution_count": 4,
   "metadata": {},
   "outputs": [
    {
     "name": "stdout",
     "output_type": "stream",
     "text": [
      "tf.Tensor(\n",
      "[[1.]\n",
      " [2.]], shape=(2, 1), dtype=float32)\n"
     ]
    }
   ],
   "source": [
    "print(tf.reshape(v1,(2,1)))"
   ]
  },
  {
   "cell_type": "code",
   "execution_count": 5,
   "metadata": {},
   "outputs": [
    {
     "name": "stdout",
     "output_type": "stream",
     "text": [
      "<tf.Variable 'Variable:0' shape=(2,) dtype=int32, numpy=array([3, 4])>\n"
     ]
    }
   ],
   "source": [
    "a = tf.Variable([1,2])\n",
    "# try:\n",
    "#   a.assign([3,4,5])\n",
    "# except Exception as e:\n",
    "#   print(e)\n",
    "\n",
    "a.assign([3,4])\n",
    "print(a)"
   ]
  },
  {
   "cell_type": "code",
   "execution_count": 6,
   "metadata": {},
   "outputs": [
    {
     "name": "stdout",
     "output_type": "stream",
     "text": [
      "<tf.Variable 'Variable:0' shape=(2,) dtype=int32, numpy=array([4, 5])>\n"
     ]
    }
   ],
   "source": [
    "a.assign_add([1,1])\n",
    "print(a)"
   ]
  },
  {
   "cell_type": "code",
   "execution_count": 7,
   "metadata": {},
   "outputs": [
    {
     "name": "stdout",
     "output_type": "stream",
     "text": [
      "<tf.Variable 'Variable:0' shape=(2,) dtype=float32, numpy=array([5., 6.], dtype=float32)>\n",
      "<tf.Variable 'Variable:0' shape=(2,) dtype=float32, numpy=array([5., 6.], dtype=float32)>\n"
     ]
    }
   ],
   "source": [
    "a = tf.Variable([1.0 , 2.0])\n",
    "b = a\n",
    "#b = tf.Variable(a)\n",
    "\n",
    "a.assign([5,6])\n",
    "print(a)\n",
    "print(b)"
   ]
  },
  {
   "cell_type": "code",
   "execution_count": 8,
   "metadata": {},
   "outputs": [
    {
     "name": "stdout",
     "output_type": "stream",
     "text": [
      "tf.Tensor(\n",
      "[[ 1.  4.  9.]\n",
      " [ 4. 10. 18.]], shape=(2, 3), dtype=float32)\n"
     ]
    }
   ],
   "source": [
    "a = tf.Variable([[1.0,2.0,3.0],[4.0,5.0,6.0]])\n",
    "b = tf.Variable([[1.0,2.0,3.0]])\n",
    "\n",
    "with tf.device('GPU:0'):\n",
    "  k = a * b\n",
    "print(k)"
   ]
  },
  {
   "cell_type": "code",
   "execution_count": 9,
   "metadata": {},
   "outputs": [
    {
     "name": "stdout",
     "output_type": "stream",
     "text": [
      "tf.Tensor([6 8], shape=(2,), dtype=int32)\n",
      "tf.Tensor([6 8], shape=(2,), dtype=int32)\n"
     ]
    }
   ],
   "source": [
    "def var_add(x,y,a):\n",
    "  x = x + a\n",
    "  y = y + a\n",
    "  return x + y\n",
    "\n",
    "t1 = tf.constant([1,2])\n",
    "t2 = tf.constant([3,4])\n",
    "s = 1\n",
    "\n",
    "print(var_add(t1,t2,s))\n",
    "\n",
    "using_graph = tf.function(var_add)\n",
    "print(using_graph(t1,t2,s))"
   ]
  },
  {
   "cell_type": "code",
   "execution_count": 10,
   "metadata": {},
   "outputs": [
    {
     "name": "stdout",
     "output_type": "stream",
     "text": [
      "[<tf.Variable 'layer1/kernel:0' shape=(3, 2) dtype=float32, numpy=\n",
      "array([[ 0.14658988, -1.0210882 ],\n",
      "       [-0.8079046 ,  0.84836805],\n",
      "       [-0.2582292 ,  0.32090402]], dtype=float32)>, <tf.Variable 'layer1/bias:0' shape=(2,) dtype=float32, numpy=array([0., 0.], dtype=float32)>, <tf.Variable 'layer2/kernel:0' shape=(2, 3) dtype=float32, numpy=\n",
      "array([[-0.97660923, -0.27052373, -0.6119522 ],\n",
      "       [ 0.42791378,  0.4493277 ,  0.778535  ]], dtype=float32)>, <tf.Variable 'layer2/bias:0' shape=(3,) dtype=float32, numpy=array([0., 0., 0.], dtype=float32)>, <tf.Variable 'layer3/kernel:0' shape=(3, 4) dtype=float32, numpy=\n",
      "array([[-0.4483746 , -0.64948523, -0.73227656,  0.19253922],\n",
      "       [-0.27827287,  0.38266814,  0.5336993 , -0.81318045],\n",
      "       [ 0.57467544, -0.68967426,  0.3684523 , -0.7234448 ]],\n",
      "      dtype=float32)>, <tf.Variable 'layer3/bias:0' shape=(4,) dtype=float32, numpy=array([0., 0., 0., 0.], dtype=float32)>]\n"
     ]
    }
   ],
   "source": [
    "#defining Sequential model with 3 layers\n",
    "from tensorflow import keras\n",
    "from keras import layers\n",
    "model = keras.Sequential([\n",
    "    layers.Dense(2,activation='relu',name='layer1'),\n",
    "    layers.Dense(3,activation='relu',name='layer2'),\n",
    "    layers.Dense(4,activation='relu',name='layer3')\n",
    "])\n",
    "\n",
    "x = tf.ones((2,3))\n",
    "y = model(x)\n",
    "\n",
    "print(model.weights)"
   ]
  },
  {
   "cell_type": "code",
   "execution_count": 11,
   "metadata": {},
   "outputs": [
    {
     "name": "stdout",
     "output_type": "stream",
     "text": [
      "Model: \"sequential\"\n",
      "_________________________________________________________________\n",
      " Layer (type)                Output Shape              Param #   \n",
      "=================================================================\n",
      " layer1 (Dense)              (2, 2)                    8         \n",
      "                                                                 \n",
      " layer2 (Dense)              (2, 3)                    9         \n",
      "                                                                 \n",
      " layer3 (Dense)              (2, 4)                    16        \n",
      "                                                                 \n",
      "=================================================================\n",
      "Total params: 33\n",
      "Trainable params: 33\n",
      "Non-trainable params: 0\n",
      "_________________________________________________________________\n"
     ]
    }
   ],
   "source": [
    "model.summary()"
   ]
  },
  {
   "cell_type": "code",
   "execution_count": 12,
   "metadata": {},
   "outputs": [
    {
     "name": "stdout",
     "output_type": "stream",
     "text": [
      "Not rectangular\n",
      "<tf.RaggedTensor [[0, 1, 2, 3], [4, 5], [6, 7, 8], [9]]>\n",
      "(4, None)\n"
     ]
    }
   ],
   "source": [
    "#ragged tensor\n",
    "\n",
    "ragged_list = [\n",
    "    [0,1,2,3],\n",
    "    [4,5],\n",
    "    [6,7,8],\n",
    "    [9]\n",
    "]\n",
    "\n",
    "try :\n",
    "  tensor = tf.constant(ragged_list)\n",
    "except Exception as e:\n",
    "  print(\"Not rectangular\")\n",
    "\n",
    "ragged_tensor = tf.ragged.constant(ragged_list)\n",
    "print(ragged_tensor)\n",
    "print(ragged_tensor.shape)"
   ]
  },
  {
   "cell_type": "code",
   "execution_count": 13,
   "metadata": {},
   "outputs": [
    {
     "name": "stdout",
     "output_type": "stream",
     "text": [
      "SparseTensor(indices=tf.Tensor(\n",
      "[[0 0]\n",
      " [1 2]], shape=(2, 2), dtype=int64), values=tf.Tensor([1 2], shape=(2,), dtype=int32), dense_shape=tf.Tensor([3 4], shape=(2,), dtype=int64))\n"
     ]
    }
   ],
   "source": [
    "#sparse tensors\n",
    "sparse_tensor = tf.sparse.SparseTensor(indices=[[0,0],[1,2]],\n",
    "                                       values=[1,2],\n",
    "                                       dense_shape=[3,4])\n",
    "print(sparse_tensor)"
   ]
  }
 ],
 "metadata": {
  "kernelspec": {
   "display_name": "Python 3",
   "language": "python",
   "name": "python3"
  },
  "language_info": {
   "codemirror_mode": {
    "name": "ipython",
    "version": 3
   },
   "file_extension": ".py",
   "mimetype": "text/x-python",
   "name": "python",
   "nbconvert_exporter": "python",
   "pygments_lexer": "ipython3",
   "version": "3.10.0"
  }
 },
 "nbformat": 4,
 "nbformat_minor": 2
}
