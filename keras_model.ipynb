{
 "cells": [
  {
   "cell_type": "code",
   "execution_count": 7,
   "metadata": {},
   "outputs": [],
   "source": [
    "import tensorflow as tf\n",
    "from tensorflow import keras\n",
    "from keras.layers import Input, Dense , concatenate"
   ]
  },
  {
   "cell_type": "code",
   "execution_count": 5,
   "metadata": {},
   "outputs": [],
   "source": [
    "#input layer\n",
    "input_layer = Input(shape=(784,1))\n",
    "\n",
    "#hidden layer\n",
    "hidden_layer_1 = Dense(128 , activation=\"relu\")(input_layer)\n",
    "hidden_layer_2 = Dense(64, activation=\"relu\")(hidden_layer_1)\n",
    "\n",
    "#output layer\n",
    "\n",
    "output_layer = Dense(10 , activation=\"softmax\")(hidden_layer_2)"
   ]
  },
  {
   "cell_type": "code",
   "execution_count": 6,
   "metadata": {},
   "outputs": [
    {
     "name": "stdout",
     "output_type": "stream",
     "text": [
      "Model: \"model_1\"\n",
      "_________________________________________________________________\n",
      " Layer (type)                Output Shape              Param #   \n",
      "=================================================================\n",
      " input_3 (InputLayer)        [(None, 784, 1)]          0         \n",
      "                                                                 \n",
      " dense_6 (Dense)             (None, 784, 128)          256       \n",
      "                                                                 \n",
      " dense_7 (Dense)             (None, 784, 64)           8256      \n",
      "                                                                 \n",
      " dense_8 (Dense)             (None, 784, 10)           650       \n",
      "                                                                 \n",
      "=================================================================\n",
      "Total params: 9,162\n",
      "Trainable params: 9,162\n",
      "Non-trainable params: 0\n",
      "_________________________________________________________________\n"
     ]
    }
   ],
   "source": [
    "model = tf.keras.Model(inputs = input_layer , outputs= output_layer)\n",
    "\n",
    "model.summary()"
   ]
  },
  {
   "cell_type": "code",
   "execution_count": 9,
   "metadata": {},
   "outputs": [],
   "source": [
    "input1 = Input(shape=(32,))\n",
    "input2 = Input(shape=(64))\n",
    "\n",
    "hidden1 = Dense(16 , activation=\"relu\")(input1)\n",
    "hidden2 = Dense(32 , activation=\"relu\")(input2)\n",
    "\n",
    "merged = concatenate([hidden1 , hidden2])"
   ]
  },
  {
   "cell_type": "code",
   "execution_count": 10,
   "metadata": {},
   "outputs": [
    {
     "name": "stdout",
     "output_type": "stream",
     "text": [
      "Model: \"model_2\"\n",
      "__________________________________________________________________________________________________\n",
      " Layer (type)                   Output Shape         Param #     Connected to                     \n",
      "==================================================================================================\n",
      " input_4 (InputLayer)           [(None, 32)]         0           []                               \n",
      "                                                                                                  \n",
      " input_5 (InputLayer)           [(None, 64)]         0           []                               \n",
      "                                                                                                  \n",
      " dense_10 (Dense)               (None, 16)           528         ['input_4[0][0]']                \n",
      "                                                                                                  \n",
      " dense_11 (Dense)               (None, 32)           2080        ['input_5[0][0]']                \n",
      "                                                                                                  \n"
     ]
    },
    {
     "name": "stdout",
     "output_type": "stream",
     "text": [
      " concatenate (Concatenate)      (None, 48)           0           ['dense_10[0][0]',               \n",
      "                                                                  'dense_11[0][0]']               \n",
      "                                                                                                  \n",
      " dense_12 (Dense)               (None, 10)           490         ['concatenate[0][0]']            \n",
      "                                                                                                  \n",
      "==================================================================================================\n",
      "Total params: 3,098\n",
      "Trainable params: 3,098\n",
      "Non-trainable params: 0\n",
      "__________________________________________________________________________________________________\n"
     ]
    }
   ],
   "source": [
    "output = Dense(10 , activation=\"softmax\")(merged)\n",
    "\n",
    "model = tf.keras.Model(inputs=[input1,input2] , outputs=output)\n",
    "\n",
    "model.summary()"
   ]
  }
 ],
 "metadata": {
  "kernelspec": {
   "display_name": "Python 3",
   "language": "python",
   "name": "python3"
  },
  "language_info": {
   "codemirror_mode": {
    "name": "ipython",
    "version": 3
   },
   "file_extension": ".py",
   "mimetype": "text/x-python",
   "name": "python",
   "nbconvert_exporter": "python",
   "pygments_lexer": "ipython3",
   "version": "3.10.0"
  }
 },
 "nbformat": 4,
 "nbformat_minor": 2
}
