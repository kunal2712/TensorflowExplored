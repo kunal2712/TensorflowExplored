{
 "cells": [
  {
   "cell_type": "code",
   "execution_count": 25,
   "metadata": {},
   "outputs": [],
   "source": [
    "from sklearn.datasets import load_iris\n",
    "import tensorflow as tf\n",
    "from tensorflow import keras\n",
    "import pandas as pd\n",
    "import numpy as np\n",
    "from keras import layers"
   ]
  },
  {
   "cell_type": "code",
   "execution_count": 26,
   "metadata": {},
   "outputs": [],
   "source": [
    "iris_data = load_iris()"
   ]
  },
  {
   "cell_type": "code",
   "execution_count": 27,
   "metadata": {},
   "outputs": [],
   "source": [
    "X = pd.DataFrame(iris_data.data, columns = iris_data.feature_names)\n",
    "y = iris_data.target"
   ]
  },
  {
   "cell_type": "code",
   "execution_count": 48,
   "metadata": {},
   "outputs": [
    {
     "data": {
      "text/plain": [
       "(150, 4)"
      ]
     },
     "execution_count": 48,
     "metadata": {},
     "output_type": "execute_result"
    }
   ],
   "source": [
    "X.shape"
   ]
  },
  {
   "cell_type": "code",
   "execution_count": 28,
   "metadata": {},
   "outputs": [
    {
     "data": {
      "text/html": [
       "<div>\n",
       "<style scoped>\n",
       "    .dataframe tbody tr th:only-of-type {\n",
       "        vertical-align: middle;\n",
       "    }\n",
       "\n",
       "    .dataframe tbody tr th {\n",
       "        vertical-align: top;\n",
       "    }\n",
       "\n",
       "    .dataframe thead th {\n",
       "        text-align: right;\n",
       "    }\n",
       "</style>\n",
       "<table border=\"1\" class=\"dataframe\">\n",
       "  <thead>\n",
       "    <tr style=\"text-align: right;\">\n",
       "      <th></th>\n",
       "      <th>sepal length (cm)</th>\n",
       "      <th>sepal width (cm)</th>\n",
       "      <th>petal length (cm)</th>\n",
       "      <th>petal width (cm)</th>\n",
       "    </tr>\n",
       "  </thead>\n",
       "  <tbody>\n",
       "    <tr>\n",
       "      <th>0</th>\n",
       "      <td>5.1</td>\n",
       "      <td>3.5</td>\n",
       "      <td>1.4</td>\n",
       "      <td>0.2</td>\n",
       "    </tr>\n",
       "    <tr>\n",
       "      <th>1</th>\n",
       "      <td>4.9</td>\n",
       "      <td>3.0</td>\n",
       "      <td>1.4</td>\n",
       "      <td>0.2</td>\n",
       "    </tr>\n",
       "    <tr>\n",
       "      <th>2</th>\n",
       "      <td>4.7</td>\n",
       "      <td>3.2</td>\n",
       "      <td>1.3</td>\n",
       "      <td>0.2</td>\n",
       "    </tr>\n",
       "    <tr>\n",
       "      <th>3</th>\n",
       "      <td>4.6</td>\n",
       "      <td>3.1</td>\n",
       "      <td>1.5</td>\n",
       "      <td>0.2</td>\n",
       "    </tr>\n",
       "    <tr>\n",
       "      <th>4</th>\n",
       "      <td>5.0</td>\n",
       "      <td>3.6</td>\n",
       "      <td>1.4</td>\n",
       "      <td>0.2</td>\n",
       "    </tr>\n",
       "  </tbody>\n",
       "</table>\n",
       "</div>"
      ],
      "text/plain": [
       "   sepal length (cm)  sepal width (cm)  petal length (cm)  petal width (cm)\n",
       "0                5.1               3.5                1.4               0.2\n",
       "1                4.9               3.0                1.4               0.2\n",
       "2                4.7               3.2                1.3               0.2\n",
       "3                4.6               3.1                1.5               0.2\n",
       "4                5.0               3.6                1.4               0.2"
      ]
     },
     "execution_count": 28,
     "metadata": {},
     "output_type": "execute_result"
    }
   ],
   "source": [
    "X.head()"
   ]
  },
  {
   "cell_type": "code",
   "execution_count": 29,
   "metadata": {},
   "outputs": [
    {
     "data": {
      "text/plain": [
       "array([2, 2, 2, 2, 2])"
      ]
     },
     "execution_count": 29,
     "metadata": {},
     "output_type": "execute_result"
    }
   ],
   "source": [
    "y[-5:]"
   ]
  },
  {
   "cell_type": "code",
   "execution_count": 30,
   "metadata": {},
   "outputs": [],
   "source": [
    "from sklearn.model_selection import train_test_split\n",
    "\n",
    "x_train, x_test, y_train, y_test = train_test_split(X , y , test_size=0.2)"
   ]
  },
  {
   "cell_type": "code",
   "execution_count": 31,
   "metadata": {},
   "outputs": [],
   "source": [
    "model = keras.Sequential([\n",
    "    layers.Dense(32 , input_shape=(4,), activation='relu'),\n",
    "    layers.Dense(3, activation='softmax')\n",
    "])"
   ]
  },
  {
   "cell_type": "code",
   "execution_count": 37,
   "metadata": {},
   "outputs": [],
   "source": [
    "model.compile( optimizer='adam' , loss='sparse_categorical_crossentropy', metrics=['accuracy'])"
   ]
  },
  {
   "cell_type": "code",
   "execution_count": 38,
   "metadata": {},
   "outputs": [
    {
     "name": "stdout",
     "output_type": "stream",
     "text": [
      "Epoch 1/50\n",
      "4/4 [==============================] - 1s 98ms/step - loss: 1.6968 - accuracy: 0.3583 - val_loss: 1.8723 - val_accuracy: 0.2333\n",
      "Epoch 2/50\n",
      "4/4 [==============================] - 0s 27ms/step - loss: 1.5157 - accuracy: 0.3583 - val_loss: 1.6378 - val_accuracy: 0.2333\n",
      "Epoch 3/50\n",
      "4/4 [==============================] - 0s 26ms/step - loss: 1.3602 - accuracy: 0.3583 - val_loss: 1.4470 - val_accuracy: 0.2333\n",
      "Epoch 4/50\n",
      "4/4 [==============================] - 0s 20ms/step - loss: 1.2479 - accuracy: 0.3583 - val_loss: 1.3015 - val_accuracy: 0.2333\n",
      "Epoch 5/50\n",
      "4/4 [==============================] - 0s 20ms/step - loss: 1.1729 - accuracy: 0.3583 - val_loss: 1.1923 - val_accuracy: 0.2667\n",
      "Epoch 6/50\n",
      "4/4 [==============================] - 0s 17ms/step - loss: 1.1143 - accuracy: 0.3167 - val_loss: 1.1166 - val_accuracy: 0.1667\n",
      "Epoch 7/50\n",
      "4/4 [==============================] - 0s 19ms/step - loss: 1.0710 - accuracy: 0.2167 - val_loss: 1.0587 - val_accuracy: 0.1333\n",
      "Epoch 8/50\n",
      "4/4 [==============================] - 0s 17ms/step - loss: 1.0329 - accuracy: 0.2083 - val_loss: 1.0169 - val_accuracy: 0.2000\n",
      "Epoch 9/50\n",
      "4/4 [==============================] - 0s 28ms/step - loss: 1.0006 - accuracy: 0.2167 - val_loss: 0.9877 - val_accuracy: 0.3333\n",
      "Epoch 10/50\n",
      "4/4 [==============================] - 0s 25ms/step - loss: 0.9710 - accuracy: 0.4750 - val_loss: 0.9688 - val_accuracy: 0.4333\n",
      "Epoch 11/50\n",
      "4/4 [==============================] - 0s 25ms/step - loss: 0.9426 - accuracy: 0.5583 - val_loss: 0.9488 - val_accuracy: 0.5000\n",
      "Epoch 12/50\n",
      "4/4 [==============================] - 0s 21ms/step - loss: 0.9194 - accuracy: 0.6250 - val_loss: 0.9287 - val_accuracy: 0.6000\n",
      "Epoch 13/50\n",
      "4/4 [==============================] - 0s 22ms/step - loss: 0.9027 - accuracy: 0.6750 - val_loss: 0.9193 - val_accuracy: 0.6000\n",
      "Epoch 14/50\n",
      "4/4 [==============================] - 0s 18ms/step - loss: 0.8849 - accuracy: 0.7083 - val_loss: 0.8997 - val_accuracy: 0.6000\n",
      "Epoch 15/50\n",
      "4/4 [==============================] - 0s 21ms/step - loss: 0.8692 - accuracy: 0.7083 - val_loss: 0.8795 - val_accuracy: 0.6000\n",
      "Epoch 16/50\n",
      "4/4 [==============================] - 0s 22ms/step - loss: 0.8538 - accuracy: 0.7000 - val_loss: 0.8581 - val_accuracy: 0.6000\n",
      "Epoch 17/50\n",
      "4/4 [==============================] - 0s 16ms/step - loss: 0.8378 - accuracy: 0.6917 - val_loss: 0.8420 - val_accuracy: 0.6333\n",
      "Epoch 18/50\n",
      "4/4 [==============================] - 0s 22ms/step - loss: 0.8230 - accuracy: 0.7250 - val_loss: 0.8276 - val_accuracy: 0.6667\n",
      "Epoch 19/50\n",
      "4/4 [==============================] - 0s 22ms/step - loss: 0.8089 - accuracy: 0.7417 - val_loss: 0.8144 - val_accuracy: 0.6667\n",
      "Epoch 20/50\n",
      "4/4 [==============================] - 0s 15ms/step - loss: 0.7967 - accuracy: 0.7250 - val_loss: 0.7966 - val_accuracy: 0.6333\n",
      "Epoch 21/50\n",
      "4/4 [==============================] - 0s 17ms/step - loss: 0.7827 - accuracy: 0.7250 - val_loss: 0.7855 - val_accuracy: 0.6333\n",
      "Epoch 22/50\n",
      "4/4 [==============================] - 0s 23ms/step - loss: 0.7706 - accuracy: 0.7417 - val_loss: 0.7729 - val_accuracy: 0.6333\n",
      "Epoch 23/50\n",
      "4/4 [==============================] - 0s 24ms/step - loss: 0.7581 - accuracy: 0.7583 - val_loss: 0.7607 - val_accuracy: 0.6667\n",
      "Epoch 24/50\n",
      "4/4 [==============================] - 0s 30ms/step - loss: 0.7469 - accuracy: 0.7583 - val_loss: 0.7512 - val_accuracy: 0.6667\n",
      "Epoch 25/50\n",
      "4/4 [==============================] - 0s 16ms/step - loss: 0.7348 - accuracy: 0.7750 - val_loss: 0.7368 - val_accuracy: 0.6667\n",
      "Epoch 26/50\n",
      "4/4 [==============================] - 0s 15ms/step - loss: 0.7246 - accuracy: 0.7750 - val_loss: 0.7203 - val_accuracy: 0.7333\n",
      "Epoch 27/50\n",
      "4/4 [==============================] - 0s 16ms/step - loss: 0.7131 - accuracy: 0.7833 - val_loss: 0.7104 - val_accuracy: 0.7333\n",
      "Epoch 28/50\n",
      "4/4 [==============================] - 0s 16ms/step - loss: 0.7019 - accuracy: 0.8083 - val_loss: 0.7014 - val_accuracy: 0.7000\n",
      "Epoch 29/50\n",
      "4/4 [==============================] - 0s 50ms/step - loss: 0.6920 - accuracy: 0.8083 - val_loss: 0.6934 - val_accuracy: 0.7000\n",
      "Epoch 30/50\n",
      "4/4 [==============================] - 0s 31ms/step - loss: 0.6818 - accuracy: 0.8000 - val_loss: 0.6829 - val_accuracy: 0.7000\n",
      "Epoch 31/50\n",
      "4/4 [==============================] - 0s 22ms/step - loss: 0.6717 - accuracy: 0.8000 - val_loss: 0.6755 - val_accuracy: 0.7333\n",
      "Epoch 32/50\n",
      "4/4 [==============================] - 0s 23ms/step - loss: 0.6630 - accuracy: 0.8083 - val_loss: 0.6650 - val_accuracy: 0.7333\n",
      "Epoch 33/50\n",
      "4/4 [==============================] - 0s 24ms/step - loss: 0.6530 - accuracy: 0.8167 - val_loss: 0.6576 - val_accuracy: 0.7667\n",
      "Epoch 34/50\n",
      "4/4 [==============================] - 0s 23ms/step - loss: 0.6445 - accuracy: 0.8167 - val_loss: 0.6493 - val_accuracy: 0.7667\n",
      "Epoch 35/50\n",
      "4/4 [==============================] - 0s 20ms/step - loss: 0.6364 - accuracy: 0.8250 - val_loss: 0.6451 - val_accuracy: 0.7333\n",
      "Epoch 36/50\n",
      "4/4 [==============================] - 0s 24ms/step - loss: 0.6273 - accuracy: 0.8250 - val_loss: 0.6311 - val_accuracy: 0.7667\n",
      "Epoch 37/50\n",
      "4/4 [==============================] - 0s 20ms/step - loss: 0.6190 - accuracy: 0.8333 - val_loss: 0.6185 - val_accuracy: 0.7667\n",
      "Epoch 38/50\n",
      "4/4 [==============================] - 0s 18ms/step - loss: 0.6107 - accuracy: 0.8333 - val_loss: 0.6109 - val_accuracy: 0.8000\n",
      "Epoch 39/50\n",
      "4/4 [==============================] - 0s 17ms/step - loss: 0.6047 - accuracy: 0.8583 - val_loss: 0.5961 - val_accuracy: 0.9000\n",
      "Epoch 40/50\n",
      "4/4 [==============================] - 0s 19ms/step - loss: 0.5952 - accuracy: 0.8583 - val_loss: 0.5899 - val_accuracy: 0.9000\n",
      "Epoch 41/50\n",
      "4/4 [==============================] - 0s 23ms/step - loss: 0.5879 - accuracy: 0.8583 - val_loss: 0.5825 - val_accuracy: 0.9000\n",
      "Epoch 42/50\n",
      "4/4 [==============================] - 0s 22ms/step - loss: 0.5807 - accuracy: 0.8583 - val_loss: 0.5793 - val_accuracy: 0.8667\n",
      "Epoch 43/50\n",
      "4/4 [==============================] - 0s 20ms/step - loss: 0.5737 - accuracy: 0.8667 - val_loss: 0.5747 - val_accuracy: 0.8667\n",
      "Epoch 44/50\n",
      "4/4 [==============================] - 0s 21ms/step - loss: 0.5669 - accuracy: 0.8667 - val_loss: 0.5670 - val_accuracy: 0.9000\n",
      "Epoch 45/50\n",
      "4/4 [==============================] - 0s 20ms/step - loss: 0.5607 - accuracy: 0.8750 - val_loss: 0.5611 - val_accuracy: 0.8667\n",
      "Epoch 46/50\n",
      "4/4 [==============================] - 0s 16ms/step - loss: 0.5538 - accuracy: 0.8833 - val_loss: 0.5502 - val_accuracy: 0.9667\n",
      "Epoch 47/50\n",
      "4/4 [==============================] - 0s 14ms/step - loss: 0.5480 - accuracy: 0.8833 - val_loss: 0.5437 - val_accuracy: 0.9667\n",
      "Epoch 48/50\n",
      "4/4 [==============================] - 0s 17ms/step - loss: 0.5414 - accuracy: 0.8917 - val_loss: 0.5353 - val_accuracy: 0.9667\n",
      "Epoch 49/50\n",
      "4/4 [==============================] - 0s 20ms/step - loss: 0.5357 - accuracy: 0.9000 - val_loss: 0.5285 - val_accuracy: 0.9667\n",
      "Epoch 50/50\n",
      "4/4 [==============================] - 0s 29ms/step - loss: 0.5304 - accuracy: 0.9083 - val_loss: 0.5210 - val_accuracy: 0.9667\n"
     ]
    },
    {
     "data": {
      "text/plain": [
       "<keras.callbacks.History at 0x2814dd4b8b0>"
      ]
     },
     "execution_count": 38,
     "metadata": {},
     "output_type": "execute_result"
    }
   ],
   "source": [
    "model.fit(x_train, y_train , validation_data=(x_test,y_test), epochs = 50)"
   ]
  },
  {
   "cell_type": "code",
   "execution_count": 39,
   "metadata": {},
   "outputs": [
    {
     "name": "stdout",
     "output_type": "stream",
     "text": [
      "1/1 [==============================] - 0s 59ms/step - loss: 0.5210 - accuracy: 0.9667\n"
     ]
    }
   ],
   "source": [
    "testLoss , testAcc = model.evaluate(x_test , y_test)"
   ]
  },
  {
   "cell_type": "code",
   "execution_count": 42,
   "metadata": {},
   "outputs": [
    {
     "name": "stdout",
     "output_type": "stream",
     "text": [
      "Test Accuracy:  0.9666666388511658\n"
     ]
    }
   ],
   "source": [
    "print(\"Test Accuracy: \" , testAcc )"
   ]
  },
  {
   "cell_type": "markdown",
   "metadata": {},
   "source": [
    "XOR problem"
   ]
  },
  {
   "cell_type": "code",
   "execution_count": 65,
   "metadata": {},
   "outputs": [
    {
     "name": "stdout",
     "output_type": "stream",
     "text": [
      "(4, 2)\n",
      "(4, 1)\n"
     ]
    }
   ],
   "source": [
    "data = np.array([[0,0],[0,1],[1,0],[1,1]])\n",
    "xor = pd.DataFrame(data)\n",
    "print(xor.shape)\n",
    "output = pd.DataFrame(np.array([[0],[1],[1],[0]]))\n",
    "print(output.shape)\n",
    "\n"
   ]
  },
  {
   "cell_type": "code",
   "execution_count": 66,
   "metadata": {},
   "outputs": [],
   "source": [
    "model = keras.Sequential([\n",
    "    layers.Dense(32 , input_shape=(2,), activation='relu'),\n",
    "    layers.Dense(1, activation='sigmoid')\n",
    "])"
   ]
  },
  {
   "cell_type": "code",
   "execution_count": 69,
   "metadata": {},
   "outputs": [],
   "source": [
    "model.compile(optimizer='adam' , loss='binary_crossentropy', metrics=['accuracy'])"
   ]
  },
  {
   "cell_type": "code",
   "execution_count": 71,
   "metadata": {},
   "outputs": [
    {
     "name": "stdout",
     "output_type": "stream",
     "text": [
      "Epoch 1/100\n",
      "1/1 [==============================] - 0s 56ms/step - loss: 0.7048 - accuracy: 0.5000\n",
      "Epoch 2/100\n",
      "1/1 [==============================] - 0s 14ms/step - loss: 0.7036 - accuracy: 0.5000\n",
      "Epoch 3/100\n",
      "1/1 [==============================] - 0s 11ms/step - loss: 0.7025 - accuracy: 0.5000\n",
      "Epoch 4/100\n",
      "1/1 [==============================] - 0s 10ms/step - loss: 0.7013 - accuracy: 0.5000\n",
      "Epoch 5/100\n",
      "1/1 [==============================] - 0s 17ms/step - loss: 0.7003 - accuracy: 0.5000\n",
      "Epoch 6/100\n",
      "1/1 [==============================] - 0s 3ms/step - loss: 0.6992 - accuracy: 0.5000\n",
      "Epoch 7/100\n",
      "1/1 [==============================] - 0s 25ms/step - loss: 0.6981 - accuracy: 0.5000\n",
      "Epoch 8/100\n",
      "1/1 [==============================] - 0s 13ms/step - loss: 0.6971 - accuracy: 0.5000\n",
      "Epoch 9/100\n",
      "1/1 [==============================] - 0s 16ms/step - loss: 0.6961 - accuracy: 0.5000\n",
      "Epoch 10/100\n",
      "1/1 [==============================] - 0s 11ms/step - loss: 0.6950 - accuracy: 0.5000\n",
      "Epoch 11/100\n",
      "1/1 [==============================] - 0s 16ms/step - loss: 0.6940 - accuracy: 0.5000\n",
      "Epoch 12/100\n",
      "1/1 [==============================] - 0s 13ms/step - loss: 0.6930 - accuracy: 0.5000\n",
      "Epoch 13/100\n",
      "1/1 [==============================] - 0s 17ms/step - loss: 0.6920 - accuracy: 0.5000\n",
      "Epoch 14/100\n",
      "1/1 [==============================] - 0s 17ms/step - loss: 0.6911 - accuracy: 0.5000\n",
      "Epoch 15/100\n",
      "1/1 [==============================] - 0s 29ms/step - loss: 0.6901 - accuracy: 0.5000\n",
      "Epoch 16/100\n",
      "1/1 [==============================] - 0s 13ms/step - loss: 0.6891 - accuracy: 0.5000\n",
      "Epoch 17/100\n",
      "1/1 [==============================] - 0s 15ms/step - loss: 0.6881 - accuracy: 0.5000\n",
      "Epoch 18/100\n",
      "1/1 [==============================] - 0s 19ms/step - loss: 0.6871 - accuracy: 0.5000\n",
      "Epoch 19/100\n",
      "1/1 [==============================] - 0s 20ms/step - loss: 0.6862 - accuracy: 0.5000\n",
      "Epoch 20/100\n",
      "1/1 [==============================] - 0s 11ms/step - loss: 0.6853 - accuracy: 0.5000\n",
      "Epoch 21/100\n",
      "1/1 [==============================] - 0s 15ms/step - loss: 0.6844 - accuracy: 0.5000\n",
      "Epoch 22/100\n",
      "1/1 [==============================] - 0s 16ms/step - loss: 0.6835 - accuracy: 0.5000\n",
      "Epoch 23/100\n",
      "1/1 [==============================] - 0s 11ms/step - loss: 0.6826 - accuracy: 0.5000\n",
      "Epoch 24/100\n",
      "1/1 [==============================] - 0s 19ms/step - loss: 0.6817 - accuracy: 0.5000\n",
      "Epoch 25/100\n",
      "1/1 [==============================] - 0s 18ms/step - loss: 0.6808 - accuracy: 0.5000\n",
      "Epoch 26/100\n",
      "1/1 [==============================] - 0s 5ms/step - loss: 0.6799 - accuracy: 0.7500\n",
      "Epoch 27/100\n",
      "1/1 [==============================] - 0s 22ms/step - loss: 0.6790 - accuracy: 0.7500\n",
      "Epoch 28/100\n",
      "1/1 [==============================] - 0s 33ms/step - loss: 0.6781 - accuracy: 0.7500\n",
      "Epoch 29/100\n",
      "1/1 [==============================] - 0s 9ms/step - loss: 0.6772 - accuracy: 0.7500\n",
      "Epoch 30/100\n",
      "1/1 [==============================] - 0s 15ms/step - loss: 0.6763 - accuracy: 0.7500\n",
      "Epoch 31/100\n",
      "1/1 [==============================] - 0s 19ms/step - loss: 0.6754 - accuracy: 0.7500\n",
      "Epoch 32/100\n",
      "1/1 [==============================] - 0s 14ms/step - loss: 0.6745 - accuracy: 0.7500\n",
      "Epoch 33/100\n",
      "1/1 [==============================] - 0s 14ms/step - loss: 0.6737 - accuracy: 0.7500\n",
      "Epoch 34/100\n",
      "1/1 [==============================] - 0s 16ms/step - loss: 0.6728 - accuracy: 0.7500\n",
      "Epoch 35/100\n",
      "1/1 [==============================] - 0s 14ms/step - loss: 0.6719 - accuracy: 0.7500\n",
      "Epoch 36/100\n",
      "1/1 [==============================] - 0s 8ms/step - loss: 0.6710 - accuracy: 0.7500\n",
      "Epoch 37/100\n",
      "1/1 [==============================] - 0s 7ms/step - loss: 0.6701 - accuracy: 0.7500\n",
      "Epoch 38/100\n",
      "1/1 [==============================] - 0s 9ms/step - loss: 0.6692 - accuracy: 0.7500\n",
      "Epoch 39/100\n",
      "1/1 [==============================] - 0s 16ms/step - loss: 0.6683 - accuracy: 1.0000\n",
      "Epoch 40/100\n",
      "1/1 [==============================] - 0s 10ms/step - loss: 0.6675 - accuracy: 1.0000\n",
      "Epoch 41/100\n",
      "1/1 [==============================] - 0s 11ms/step - loss: 0.6666 - accuracy: 1.0000\n",
      "Epoch 42/100\n",
      "1/1 [==============================] - 0s 11ms/step - loss: 0.6657 - accuracy: 1.0000\n",
      "Epoch 43/100\n",
      "1/1 [==============================] - 0s 15ms/step - loss: 0.6648 - accuracy: 1.0000\n",
      "Epoch 44/100\n",
      "1/1 [==============================] - 0s 21ms/step - loss: 0.6640 - accuracy: 1.0000\n",
      "Epoch 45/100\n",
      "1/1 [==============================] - 0s 11ms/step - loss: 0.6631 - accuracy: 1.0000\n",
      "Epoch 46/100\n",
      "1/1 [==============================] - 0s 10ms/step - loss: 0.6622 - accuracy: 1.0000\n",
      "Epoch 47/100\n",
      "1/1 [==============================] - 0s 8ms/step - loss: 0.6613 - accuracy: 1.0000\n",
      "Epoch 48/100\n",
      "1/1 [==============================] - 0s 9ms/step - loss: 0.6604 - accuracy: 1.0000\n",
      "Epoch 49/100\n",
      "1/1 [==============================] - 0s 9ms/step - loss: 0.6596 - accuracy: 1.0000\n",
      "Epoch 50/100\n",
      "1/1 [==============================] - 0s 12ms/step - loss: 0.6587 - accuracy: 1.0000\n",
      "Epoch 51/100\n",
      "1/1 [==============================] - 0s 13ms/step - loss: 0.6578 - accuracy: 1.0000\n",
      "Epoch 52/100\n",
      "1/1 [==============================] - 0s 15ms/step - loss: 0.6569 - accuracy: 1.0000\n",
      "Epoch 53/100\n",
      "1/1 [==============================] - 0s 15ms/step - loss: 0.6561 - accuracy: 1.0000\n",
      "Epoch 54/100\n",
      "1/1 [==============================] - 0s 14ms/step - loss: 0.6552 - accuracy: 1.0000\n",
      "Epoch 55/100\n",
      "1/1 [==============================] - 0s 11ms/step - loss: 0.6543 - accuracy: 1.0000\n",
      "Epoch 56/100\n",
      "1/1 [==============================] - 0s 13ms/step - loss: 0.6534 - accuracy: 1.0000\n",
      "Epoch 57/100\n",
      "1/1 [==============================] - 0s 11ms/step - loss: 0.6526 - accuracy: 1.0000\n",
      "Epoch 58/100\n",
      "1/1 [==============================] - 0s 11ms/step - loss: 0.6517 - accuracy: 1.0000\n",
      "Epoch 59/100\n",
      "1/1 [==============================] - 0s 12ms/step - loss: 0.6508 - accuracy: 1.0000\n",
      "Epoch 60/100\n",
      "1/1 [==============================] - 0s 15ms/step - loss: 0.6499 - accuracy: 1.0000\n",
      "Epoch 61/100\n",
      "1/1 [==============================] - 0s 13ms/step - loss: 0.6490 - accuracy: 1.0000\n",
      "Epoch 62/100\n",
      "1/1 [==============================] - 0s 14ms/step - loss: 0.6481 - accuracy: 1.0000\n",
      "Epoch 63/100\n",
      "1/1 [==============================] - 0s 14ms/step - loss: 0.6472 - accuracy: 1.0000\n",
      "Epoch 64/100\n",
      "1/1 [==============================] - 0s 10ms/step - loss: 0.6463 - accuracy: 1.0000\n",
      "Epoch 65/100\n",
      "1/1 [==============================] - 0s 10ms/step - loss: 0.6454 - accuracy: 1.0000\n",
      "Epoch 66/100\n",
      "1/1 [==============================] - 0s 11ms/step - loss: 0.6446 - accuracy: 1.0000\n",
      "Epoch 67/100\n",
      "1/1 [==============================] - 0s 34ms/step - loss: 0.6437 - accuracy: 1.0000\n",
      "Epoch 68/100\n",
      "1/1 [==============================] - 0s 24ms/step - loss: 0.6428 - accuracy: 1.0000\n",
      "Epoch 69/100\n",
      "1/1 [==============================] - 0s 0s/step - loss: 0.6418 - accuracy: 1.0000\n",
      "Epoch 70/100\n",
      "1/1 [==============================] - 0s 6ms/step - loss: 0.6409 - accuracy: 1.0000\n",
      "Epoch 71/100\n",
      "1/1 [==============================] - 0s 1ms/step - loss: 0.6400 - accuracy: 1.0000\n",
      "Epoch 72/100\n",
      "1/1 [==============================] - 0s 5ms/step - loss: 0.6391 - accuracy: 1.0000\n",
      "Epoch 73/100\n",
      "1/1 [==============================] - 0s 12ms/step - loss: 0.6382 - accuracy: 1.0000\n",
      "Epoch 74/100\n",
      "1/1 [==============================] - 0s 19ms/step - loss: 0.6373 - accuracy: 1.0000\n",
      "Epoch 75/100\n",
      "1/1 [==============================] - 0s 17ms/step - loss: 0.6364 - accuracy: 1.0000\n",
      "Epoch 76/100\n",
      "1/1 [==============================] - 0s 9ms/step - loss: 0.6355 - accuracy: 1.0000\n",
      "Epoch 77/100\n",
      "1/1 [==============================] - 0s 17ms/step - loss: 0.6345 - accuracy: 1.0000\n",
      "Epoch 78/100\n",
      "1/1 [==============================] - 0s 17ms/step - loss: 0.6336 - accuracy: 1.0000\n",
      "Epoch 79/100\n",
      "1/1 [==============================] - 0s 10ms/step - loss: 0.6327 - accuracy: 1.0000\n",
      "Epoch 80/100\n",
      "1/1 [==============================] - 0s 13ms/step - loss: 0.6318 - accuracy: 1.0000\n",
      "Epoch 81/100\n",
      "1/1 [==============================] - 0s 16ms/step - loss: 0.6308 - accuracy: 1.0000\n",
      "Epoch 82/100\n",
      "1/1 [==============================] - 0s 12ms/step - loss: 0.6299 - accuracy: 1.0000\n",
      "Epoch 83/100\n",
      "1/1 [==============================] - 0s 17ms/step - loss: 0.6289 - accuracy: 1.0000\n",
      "Epoch 84/100\n",
      "1/1 [==============================] - 0s 15ms/step - loss: 0.6280 - accuracy: 1.0000\n",
      "Epoch 85/100\n",
      "1/1 [==============================] - 0s 4ms/step - loss: 0.6270 - accuracy: 1.0000\n",
      "Epoch 86/100\n",
      "1/1 [==============================] - 0s 9ms/step - loss: 0.6261 - accuracy: 1.0000\n",
      "Epoch 87/100\n",
      "1/1 [==============================] - 0s 0s/step - loss: 0.6252 - accuracy: 1.0000\n",
      "Epoch 88/100\n",
      "1/1 [==============================] - 0s 12ms/step - loss: 0.6242 - accuracy: 1.0000\n",
      "Epoch 89/100\n",
      "1/1 [==============================] - 0s 9ms/step - loss: 0.6233 - accuracy: 1.0000\n",
      "Epoch 90/100\n",
      "1/1 [==============================] - 0s 14ms/step - loss: 0.6223 - accuracy: 1.0000\n",
      "Epoch 91/100\n",
      "1/1 [==============================] - 0s 13ms/step - loss: 0.6214 - accuracy: 1.0000\n",
      "Epoch 92/100\n",
      "1/1 [==============================] - 0s 8ms/step - loss: 0.6204 - accuracy: 1.0000\n",
      "Epoch 93/100\n",
      "1/1 [==============================] - 0s 18ms/step - loss: 0.6195 - accuracy: 1.0000\n",
      "Epoch 94/100\n",
      "1/1 [==============================] - 0s 10ms/step - loss: 0.6185 - accuracy: 1.0000\n",
      "Epoch 95/100\n",
      "1/1 [==============================] - 0s 14ms/step - loss: 0.6176 - accuracy: 1.0000\n",
      "Epoch 96/100\n",
      "1/1 [==============================] - 0s 9ms/step - loss: 0.6166 - accuracy: 1.0000\n",
      "Epoch 97/100\n",
      "1/1 [==============================] - 0s 3ms/step - loss: 0.6156 - accuracy: 1.0000\n",
      "Epoch 98/100\n",
      "1/1 [==============================] - 0s 7ms/step - loss: 0.6147 - accuracy: 1.0000\n",
      "Epoch 99/100\n",
      "1/1 [==============================] - 0s 12ms/step - loss: 0.6137 - accuracy: 1.0000\n",
      "Epoch 100/100\n",
      "1/1 [==============================] - 0s 0s/step - loss: 0.6127 - accuracy: 1.0000\n"
     ]
    },
    {
     "data": {
      "text/plain": [
       "<keras.callbacks.History at 0x281526a0ca0>"
      ]
     },
     "execution_count": 71,
     "metadata": {},
     "output_type": "execute_result"
    }
   ],
   "source": [
    "model.fit(xor, output , epochs=100)"
   ]
  },
  {
   "cell_type": "code",
   "execution_count": 75,
   "metadata": {},
   "outputs": [
    {
     "name": "stdout",
     "output_type": "stream",
     "text": [
      "1/1 [==============================] - 0s 63ms/step\n",
      "[[0.54635495]]\n"
     ]
    }
   ],
   "source": [
    "print(model.predict(np.array([[1,0]])))"
   ]
  }
 ],
 "metadata": {
  "kernelspec": {
   "display_name": "Python 3",
   "language": "python",
   "name": "python3"
  },
  "language_info": {
   "codemirror_mode": {
    "name": "ipython",
    "version": 3
   },
   "file_extension": ".py",
   "mimetype": "text/x-python",
   "name": "python",
   "nbconvert_exporter": "python",
   "pygments_lexer": "ipython3",
   "version": "3.10.0"
  }
 },
 "nbformat": 4,
 "nbformat_minor": 2
}
