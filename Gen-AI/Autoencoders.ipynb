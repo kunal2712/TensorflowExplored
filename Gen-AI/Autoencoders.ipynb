{
  "cells": [
    {
      "cell_type": "markdown",
      "metadata": {
        "id": "0eMMfhTb6SdI"
      },
      "source": [
        "**Auto-encoders**\n"
      ]
    },
    {
      "cell_type": "code",
      "execution_count": null,
      "metadata": {
        "id": "A5uKHlih_6__"
      },
      "outputs": [],
      "source": [
        "import numpy as np\n",
        "import tensorflow as tf\n",
        "from tensorflow import keras\n",
        "from keras import layers"
      ]
    },
    {
      "cell_type": "code",
      "execution_count": null,
      "metadata": {
        "id": "QXQYkaAP_jSA"
      },
      "outputs": [],
      "source": [
        "input = np.array([[1,1,0,0,0,0],[1,0,0,0,1,0],[0,1,1,1,0,0],[1,1,0,0,1,0],[0,0,0,1,0,1]])\n",
        "model=keras.Sequential(\n",
        "    [\n",
        "        layers.Dense(3,input_shape=(6,),activation='sigmoid'),\n",
        "        layers.Dense(6,activation='sigmoid')\n",
        "    ]\n",
        ")"
      ]
    },
    {
      "cell_type": "code",
      "execution_count": null,
      "metadata": {
        "id": "RrinObRLCE9B"
      },
      "outputs": [],
      "source": [
        "model.compile(optimizer='adam', loss='binary_crossentropy')"
      ]
    },
    {
      "cell_type": "code",
      "execution_count": null,
      "metadata": {
        "colab": {
          "base_uri": "https://localhost:8080/"
        },
        "id": "c_MUp1IhCXbN",
        "outputId": "61625f16-f60a-4391-acfd-da5e9fa940cb"
      },
      "outputs": [
        {
          "name": "stdout",
          "output_type": "stream",
          "text": [
            "Epoch 1/50\n",
            "1/1 [==============================] - 1s 982ms/step - loss: 0.6782\n",
            "Epoch 2/50\n",
            "1/1 [==============================] - 0s 12ms/step - loss: 0.6776\n",
            "Epoch 3/50\n",
            "1/1 [==============================] - 0s 8ms/step - loss: 0.6770\n",
            "Epoch 4/50\n",
            "1/1 [==============================] - 0s 12ms/step - loss: 0.6764\n",
            "Epoch 5/50\n",
            "1/1 [==============================] - 0s 9ms/step - loss: 0.6758\n",
            "Epoch 6/50\n",
            "1/1 [==============================] - 0s 9ms/step - loss: 0.6753\n",
            "Epoch 7/50\n",
            "1/1 [==============================] - 0s 9ms/step - loss: 0.6747\n",
            "Epoch 8/50\n",
            "1/1 [==============================] - 0s 9ms/step - loss: 0.6741\n",
            "Epoch 9/50\n",
            "1/1 [==============================] - 0s 9ms/step - loss: 0.6735\n",
            "Epoch 10/50\n",
            "1/1 [==============================] - 0s 10ms/step - loss: 0.6730\n",
            "Epoch 11/50\n",
            "1/1 [==============================] - 0s 9ms/step - loss: 0.6724\n",
            "Epoch 12/50\n",
            "1/1 [==============================] - 0s 10ms/step - loss: 0.6718\n",
            "Epoch 13/50\n",
            "1/1 [==============================] - 0s 10ms/step - loss: 0.6713\n",
            "Epoch 14/50\n",
            "1/1 [==============================] - 0s 10ms/step - loss: 0.6707\n",
            "Epoch 15/50\n",
            "1/1 [==============================] - 0s 8ms/step - loss: 0.6701\n",
            "Epoch 16/50\n",
            "1/1 [==============================] - 0s 13ms/step - loss: 0.6696\n",
            "Epoch 17/50\n",
            "1/1 [==============================] - 0s 8ms/step - loss: 0.6690\n",
            "Epoch 18/50\n",
            "1/1 [==============================] - 0s 11ms/step - loss: 0.6685\n",
            "Epoch 19/50\n",
            "1/1 [==============================] - 0s 11ms/step - loss: 0.6679\n",
            "Epoch 20/50\n",
            "1/1 [==============================] - 0s 9ms/step - loss: 0.6674\n",
            "Epoch 21/50\n",
            "1/1 [==============================] - 0s 12ms/step - loss: 0.6668\n",
            "Epoch 22/50\n",
            "1/1 [==============================] - 0s 8ms/step - loss: 0.6663\n",
            "Epoch 23/50\n",
            "1/1 [==============================] - 0s 10ms/step - loss: 0.6657\n",
            "Epoch 24/50\n",
            "1/1 [==============================] - 0s 12ms/step - loss: 0.6652\n",
            "Epoch 25/50\n",
            "1/1 [==============================] - 0s 8ms/step - loss: 0.6646\n",
            "Epoch 26/50\n",
            "1/1 [==============================] - 0s 10ms/step - loss: 0.6641\n",
            "Epoch 27/50\n",
            "1/1 [==============================] - 0s 12ms/step - loss: 0.6635\n",
            "Epoch 28/50\n",
            "1/1 [==============================] - 0s 7ms/step - loss: 0.6630\n",
            "Epoch 29/50\n",
            "1/1 [==============================] - 0s 9ms/step - loss: 0.6625\n",
            "Epoch 30/50\n",
            "1/1 [==============================] - 0s 13ms/step - loss: 0.6619\n",
            "Epoch 31/50\n",
            "1/1 [==============================] - 0s 9ms/step - loss: 0.6614\n",
            "Epoch 32/50\n",
            "1/1 [==============================] - 0s 8ms/step - loss: 0.6609\n",
            "Epoch 33/50\n",
            "1/1 [==============================] - 0s 11ms/step - loss: 0.6603\n",
            "Epoch 34/50\n",
            "1/1 [==============================] - 0s 8ms/step - loss: 0.6598\n",
            "Epoch 35/50\n",
            "1/1 [==============================] - 0s 12ms/step - loss: 0.6593\n",
            "Epoch 36/50\n",
            "1/1 [==============================] - 0s 8ms/step - loss: 0.6588\n",
            "Epoch 37/50\n",
            "1/1 [==============================] - 0s 8ms/step - loss: 0.6582\n",
            "Epoch 38/50\n",
            "1/1 [==============================] - 0s 10ms/step - loss: 0.6577\n",
            "Epoch 39/50\n",
            "1/1 [==============================] - 0s 8ms/step - loss: 0.6572\n",
            "Epoch 40/50\n",
            "1/1 [==============================] - 0s 8ms/step - loss: 0.6567\n",
            "Epoch 41/50\n",
            "1/1 [==============================] - 0s 13ms/step - loss: 0.6562\n",
            "Epoch 42/50\n",
            "1/1 [==============================] - 0s 11ms/step - loss: 0.6556\n",
            "Epoch 43/50\n",
            "1/1 [==============================] - 0s 11ms/step - loss: 0.6551\n",
            "Epoch 44/50\n",
            "1/1 [==============================] - 0s 9ms/step - loss: 0.6546\n",
            "Epoch 45/50\n",
            "1/1 [==============================] - 0s 12ms/step - loss: 0.6541\n",
            "Epoch 46/50\n",
            "1/1 [==============================] - 0s 8ms/step - loss: 0.6536\n",
            "Epoch 47/50\n",
            "1/1 [==============================] - 0s 10ms/step - loss: 0.6531\n",
            "Epoch 48/50\n",
            "1/1 [==============================] - 0s 15ms/step - loss: 0.6526\n",
            "Epoch 49/50\n",
            "1/1 [==============================] - 0s 11ms/step - loss: 0.6521\n",
            "Epoch 50/50\n",
            "1/1 [==============================] - 0s 11ms/step - loss: 0.6516\n"
          ]
        },
        {
          "data": {
            "text/plain": [
              "<keras.src.callbacks.History at 0x7df6179eeef0>"
            ]
          },
          "execution_count": 20,
          "metadata": {},
          "output_type": "execute_result"
        }
      ],
      "source": [
        "model.fit(input,input,epochs=50)"
      ]
    },
    {
      "cell_type": "code",
      "execution_count": null,
      "metadata": {
        "id": "nkouOxCODAWR"
      },
      "outputs": [],
      "source": [
        "from keras.datasets import mnist"
      ]
    },
    {
      "cell_type": "code",
      "execution_count": null,
      "metadata": {
        "id": "hpOt5pkjIQ8s"
      },
      "outputs": [],
      "source": [
        "(train,_),(test,_)=mnist.load_data()"
      ]
    },
    {
      "cell_type": "code",
      "execution_count": null,
      "metadata": {
        "id": "O4yLYVw8Ikkz"
      },
      "outputs": [],
      "source": [
        "train=train.reshape(len(train),784).astype('float32')/255.0\n",
        "test=test.reshape(len(test),784).astype('float32')/255.0"
      ]
    },
    {
      "cell_type": "code",
      "execution_count": null,
      "metadata": {
        "id": "5zwSu2XnJAQk"
      },
      "outputs": [],
      "source": [
        "#code for autoencoder\n",
        "input=keras.Input((784,))\n",
        "encoder=keras.layers.Dense(128,activation='relu')(input)\n",
        "encoder=keras.layers.Dense(64,activation='relu')(encoder)\n",
        "encoder=keras.layers.Dense(32,activation='relu')(encoder)\n",
        "\n",
        "decoder=keras.layers.Dense(64,activation='relu')(encoder)\n",
        "decoder=keras.layers.Dense(128,activation='relu')(decoder)\n",
        "obtained=keras.layers.Dense(784,activation='sigmoid')(decoder)\n",
        "\n",
        "model=keras.Model(input,obtained)"
      ]
    },
    {
      "cell_type": "code",
      "execution_count": null,
      "metadata": {
        "id": "RdO6fbWqKXcv"
      },
      "outputs": [],
      "source": [
        "model.compile(optimizer='adam', loss='binary_crossentropy')"
      ]
    },
    {
      "cell_type": "code",
      "execution_count": null,
      "metadata": {
        "colab": {
          "base_uri": "https://localhost:8080/"
        },
        "id": "7JfxU9_kKlRE",
        "outputId": "0adeadad-a5be-4268-9e49-f0a9829fdffb"
      },
      "outputs": [
        {
          "name": "stdout",
          "output_type": "stream",
          "text": [
            "Epoch 1/25\n",
            "1875/1875 [==============================] - 8s 4ms/step - loss: 0.1046 - val_loss: 0.1004\n",
            "Epoch 2/25\n",
            "1875/1875 [==============================] - 7s 4ms/step - loss: 0.0999 - val_loss: 0.0973\n",
            "Epoch 3/25\n",
            "1875/1875 [==============================] - 7s 4ms/step - loss: 0.0970 - val_loss: 0.0949\n",
            "Epoch 4/25\n",
            "1875/1875 [==============================] - 8s 4ms/step - loss: 0.0948 - val_loss: 0.0927\n",
            "Epoch 5/25\n",
            "1875/1875 [==============================] - 8s 4ms/step - loss: 0.0933 - val_loss: 0.0916\n",
            "Epoch 6/25\n",
            "1875/1875 [==============================] - 8s 4ms/step - loss: 0.0922 - val_loss: 0.0907\n",
            "Epoch 7/25\n",
            "1875/1875 [==============================] - 7s 4ms/step - loss: 0.0913 - val_loss: 0.0903\n",
            "Epoch 8/25\n",
            "1875/1875 [==============================] - 8s 4ms/step - loss: 0.0906 - val_loss: 0.0901\n",
            "Epoch 9/25\n",
            "1875/1875 [==============================] - 8s 4ms/step - loss: 0.0901 - val_loss: 0.0893\n",
            "Epoch 10/25\n",
            "1875/1875 [==============================] - 7s 4ms/step - loss: 0.0896 - val_loss: 0.0887\n",
            "Epoch 11/25\n",
            "1875/1875 [==============================] - 9s 5ms/step - loss: 0.0892 - val_loss: 0.0883\n",
            "Epoch 12/25\n",
            "1875/1875 [==============================] - 8s 4ms/step - loss: 0.0888 - val_loss: 0.0878\n",
            "Epoch 13/25\n",
            "1875/1875 [==============================] - 7s 4ms/step - loss: 0.0883 - val_loss: 0.0873\n",
            "Epoch 14/25\n",
            "1875/1875 [==============================] - 8s 4ms/step - loss: 0.0877 - val_loss: 0.0872\n",
            "Epoch 15/25\n",
            "1875/1875 [==============================] - 7s 4ms/step - loss: 0.0872 - val_loss: 0.0864\n",
            "Epoch 16/25\n",
            "1875/1875 [==============================] - 8s 4ms/step - loss: 0.0869 - val_loss: 0.0862\n",
            "Epoch 17/25\n",
            "1875/1875 [==============================] - 8s 4ms/step - loss: 0.0866 - val_loss: 0.0861\n",
            "Epoch 18/25\n",
            "1875/1875 [==============================] - 7s 4ms/step - loss: 0.0863 - val_loss: 0.0861\n",
            "Epoch 19/25\n",
            "1875/1875 [==============================] - 9s 5ms/step - loss: 0.0861 - val_loss: 0.0859\n",
            "Epoch 20/25\n",
            "1875/1875 [==============================] - 8s 4ms/step - loss: 0.0859 - val_loss: 0.0852\n",
            "Epoch 21/25\n",
            "1875/1875 [==============================] - 8s 4ms/step - loss: 0.0857 - val_loss: 0.0861\n",
            "Epoch 22/25\n",
            "1875/1875 [==============================] - 8s 4ms/step - loss: 0.0856 - val_loss: 0.0850\n",
            "Epoch 23/25\n",
            "1875/1875 [==============================] - 7s 4ms/step - loss: 0.0854 - val_loss: 0.0854\n",
            "Epoch 24/25\n",
            "1875/1875 [==============================] - 7s 4ms/step - loss: 0.0853 - val_loss: 0.0850\n",
            "Epoch 25/25\n",
            "1875/1875 [==============================] - 8s 4ms/step - loss: 0.0852 - val_loss: 0.0854\n"
          ]
        },
        {
          "data": {
            "text/plain": [
              "<keras.src.callbacks.History at 0x7df66ce08610>"
            ]
          },
          "execution_count": 30,
          "metadata": {},
          "output_type": "execute_result"
        }
      ],
      "source": [
        "model.fit(train,train,epochs=25, validation_data=(test,test))"
      ]
    },
    {
      "cell_type": "code",
      "execution_count": null,
      "metadata": {
        "colab": {
          "base_uri": "https://localhost:8080/"
        },
        "id": "wIl-Kna-MGGu",
        "outputId": "0655b6cc-dada-4af9-e153-999a0b553ab7"
      },
      "outputs": [
        {
          "name": "stdout",
          "output_type": "stream",
          "text": [
            "313/313 [==============================] - 1s 2ms/step\n"
          ]
        }
      ],
      "source": [
        "predict=model.predict(test)"
      ]
    },
    {
      "cell_type": "code",
      "execution_count": null,
      "metadata": {
        "colab": {
          "base_uri": "https://localhost:8080/",
          "height": 829
        },
        "id": "A9T0vJu9M3Bd",
        "outputId": "b2858fe8-7137-4066-99ff-2098a47cc97e"
      },
      "outputs": [
        {
          "data": {
            "image/png": "[encoded data removed]",
            "text/plain": [
              "<Figure size 1000x1000 with 10 Axes>"
            ]
          },
          "metadata": {},
          "output_type": "display_data"
        }
      ],
      "source": [
        "import matplotlib.pyplot as plt\n",
        "plt.figure(figsize=(10,10))\n",
        "j=0\n",
        "for i in range(5):\n",
        "  plt.subplot(5,2,j+1)\n",
        "  plt.title(\"original image\")\n",
        "  plt.imshow(test[i].reshape(28,28),cmap='gray')\n",
        "  plt.axis('off')\n",
        "  plt.subplot(5,2,j+2)\n",
        "  plt.title(\"Decoded image\")\n",
        "  plt.imshow(predict[i].reshape(28,28),cmap='gray')\n",
        "  plt.axis('off')\n",
        "  j+=2"
      ]
    }
  ],
  "metadata": {
    "accelerator": "GPU",
    "colab": {
      "gpuType": "T4",
      "provenance": []
    },
    "kernelspec": {
      "display_name": "Python 3",
      "name": "python3"
    },
    "language_info": {
      "name": "python"
    }
  },
  "nbformat": 4,
  "nbformat_minor": 0
}
