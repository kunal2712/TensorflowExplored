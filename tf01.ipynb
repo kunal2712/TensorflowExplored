{
  "cells": [
    {
      "cell_type": "code",
      "execution_count": null,
      "metadata": {
        "colab": {
          "base_uri": "https://localhost:8080/"
        },
        "id": "yUG2ujzWwUOs",
        "outputId": "24911e5f-79a4-462b-af1f-ee1bf674b06b"
      },
      "outputs": [
        {
          "name": "stdout",
          "output_type": "stream",
          "text": [
            "2.15.0\n",
            "True\n",
            "True\n"
          ]
        }
      ],
      "source": [
        "import tensorflow as tf\n",
        "print(tf.__version__)\n",
        "print(tf.test.is_built_with_cuda())\n",
        "print(tf.test.is_built_with_gpu_support())"
      ]
    },
    {
      "cell_type": "code",
      "execution_count": null,
      "metadata": {
        "colab": {
          "base_uri": "https://localhost:8080/"
        },
        "id": "mLv_ThSawd08",
        "outputId": "af84d882-bcd5-4977-d5ac-e25b242fbfa5"
      },
      "outputs": [
        {
          "name": "stdout",
          "output_type": "stream",
          "text": [
            "/device:GPU:0\n",
            "/device:GPU:0\n"
          ]
        }
      ],
      "source": [
        "device = tf.test.gpu_device_name()\n",
        "#print(device)\n",
        "if device == '':\n",
        "    raise SystemError(\"GPU not found\")\n",
        "else:\n",
        "    print(device)"
      ]
    },
    {
      "cell_type": "markdown",
      "metadata": {
        "id": "uNfznOQm2Oav"
      },
      "source": [
        "Different Ranked Tensors"
      ]
    },
    {
      "cell_type": "code",
      "execution_count": null,
      "metadata": {
        "colab": {
          "base_uri": "https://localhost:8080/"
        },
        "id": "rtHfRuSMy0Sy",
        "outputId": "4de86722-052c-4017-995c-7f9a2e78d826"
      },
      "outputs": [
        {
          "name": "stdout",
          "output_type": "stream",
          "text": [
            "tf.Tensor(3, shape=(), dtype=int32)\n"
          ]
        }
      ],
      "source": [
        "rank_0_tensor = tf.constant(3)\n",
        "print(rank_0_tensor)"
      ]
    },
    {
      "cell_type": "code",
      "execution_count": null,
      "metadata": {
        "colab": {
          "base_uri": "https://localhost:8080/"
        },
        "id": "95Uhb0bFzAhD",
        "outputId": "5d12ef4c-352b-4a19-f50c-c7cf8c1b767d"
      },
      "outputs": [
        {
          "name": "stdout",
          "output_type": "stream",
          "text": [
            "tf.Tensor([1 2 3], shape=(3,), dtype=int32)\n"
          ]
        }
      ],
      "source": [
        "rank_1_tensor = tf.constant([1,2,3])\n",
        "print(rank_1_tensor)"
      ]
    },
    {
      "cell_type": "code",
      "execution_count": null,
      "metadata": {
        "colab": {
          "base_uri": "https://localhost:8080/"
        },
        "id": "-4RDBmUtzHRX",
        "outputId": "86e8b4b6-8a3a-4276-cd52-374d870ad976"
      },
      "outputs": [
        {
          "name": "stdout",
          "output_type": "stream",
          "text": [
            "tf.Tensor(\n",
            "[[1 2 3]\n",
            " [4 5 6]], shape=(2, 3), dtype=int32)\n"
          ]
        }
      ],
      "source": [
        "rank_2_tensor = tf.constant([[1,2,3],[4,5,6]])\n",
        "print(rank_2_tensor)"
      ]
    },
    {
      "cell_type": "code",
      "execution_count": null,
      "metadata": {
        "colab": {
          "base_uri": "https://localhost:8080/"
        },
        "id": "Zc6ibpG713fr",
        "outputId": "c39378bd-e66b-4b15-f42a-5509d2501de1"
      },
      "outputs": [
        {
          "name": "stdout",
          "output_type": "stream",
          "text": [
            "tf.Tensor(\n",
            "[[[ 1  2  3]\n",
            "  [ 4  5  6]]\n",
            "\n",
            " [[ 7  8  9]\n",
            "  [10 11 12]]], shape=(2, 2, 3), dtype=int32)\n"
          ]
        }
      ],
      "source": [
        "rank_3_tensor = tf.constant([[[1,2,3],[4,5,6]],[[7,8,9],[10,11,12]]])\n",
        "print(rank_3_tensor)"
      ]
    },
    {
      "cell_type": "code",
      "execution_count": null,
      "metadata": {
        "colab": {
          "base_uri": "https://localhost:8080/"
        },
        "id": "tMrq0Dwh2Ym3",
        "outputId": "b1b197fd-740c-4a59-eed2-17bc504742f6"
      },
      "outputs": [
        {
          "name": "stdout",
          "output_type": "stream",
          "text": [
            "tf.Tensor(\n",
            "[[[[1]\n",
            "   [2]]]\n",
            "\n",
            "\n",
            " [[[3]\n",
            "   [4]]]\n",
            "\n",
            "\n",
            " [[[5]\n",
            "   [6]]]], shape=(3, 1, 2, 1), dtype=int32)\n"
          ]
        }
      ],
      "source": [
        "rank_4_tensor = tf.constant([[[[1],[2]]],[[[3],[4]]],[[[5],[6]]]])\n",
        "print(rank_4_tensor)"
      ]
    },
    {
      "cell_type": "markdown",
      "metadata": {
        "id": "jOR4IP-A78Sk"
      },
      "source": [
        "Arithmetics"
      ]
    },
    {
      "cell_type": "code",
      "execution_count": 17,
      "metadata": {
        "colab": {
          "base_uri": "https://localhost:8080/"
        },
        "id": "6_UqvuD76rqQ",
        "outputId": "be282e6d-a161-4c2e-836a-b4e7f60f7c2b"
      },
      "outputs": [
        {
          "name": "stdout",
          "output_type": "stream",
          "text": [
            "tf.Tensor(3, shape=(), dtype=int32)\n",
            "tf.Tensor([4 6], shape=(2,), dtype=int32)\n"
          ]
        }
      ],
      "source": [
        "print(tf.add(1,2))\n",
        "print(tf.add([1,2],[3,4]))"
      ]
    },
    {
      "cell_type": "code",
      "execution_count": 19,
      "metadata": {
        "colab": {
          "base_uri": "https://localhost:8080/"
        },
        "id": "_fPD6o_A8Yn1",
        "outputId": "d7c10ed0-e3c4-44ef-8e66-876c94b860eb"
      },
      "outputs": [
        {
          "name": "stdout",
          "output_type": "stream",
          "text": [
            "tf.Tensor([3 8], shape=(2,), dtype=int32)\n",
            "tf.Tensor(\n",
            "[[4 4]\n",
            " [4 4]], shape=(2, 2), dtype=int32)\n"
          ]
        }
      ],
      "source": [
        "#numbers passed in tensor functions are treated as tensors\n",
        "print(tf.multiply([1,2],[3,4]))\n",
        "print(tf.matmul([[1,1],[1,1]], [[2,2],[2,2]]))"
      ]
    },
    {
      "cell_type": "code",
      "execution_count": 27,
      "metadata": {
        "colab": {
          "base_uri": "https://localhost:8080/"
        },
        "id": "LYu-TLQS8vvP",
        "outputId": "0314f2fc-af60-408f-e0a0-62b42de7754f"
      },
      "outputs": [
        {
          "name": "stdout",
          "output_type": "stream",
          "text": [
            "tf.Tensor([3 6], shape=(2,), dtype=int32)\n",
            "tf.Tensor([1 2], shape=(2,), dtype=int32)\n",
            "tf.Tensor([2 8], shape=(2,), dtype=int32)\n",
            "tf.Tensor([2. 2.], shape=(2,), dtype=float64)\n",
            "tf.Tensor([0 0], shape=(2,), dtype=int32)\n",
            "tf.Tensor([ 1 16], shape=(2,), dtype=int32)\n",
            "tf.Tensor([ True  True], shape=(2,), dtype=bool)\n",
            "tf.Tensor([ True  True], shape=(2,), dtype=bool)\n",
            "tf.Tensor([-1 -2], shape=(2,), dtype=int32)\n",
            "tf.Tensor([1 2], shape=(2,), dtype=int32)\n"
          ]
        }
      ],
      "source": [
        "#declared and passed tensors\n",
        "t1 = tf.constant([1,2])\n",
        "t2 = tf.constant([2,4])\n",
        "print(t1+t2)\n",
        "print(t2-t1)\n",
        "print(t1*t2)\n",
        "print(t2/t1)\n",
        "print(tf.math.mod(t2,t1))\n",
        "print(t1 ** t2)\n",
        "print(t2>t1)\n",
        "print(t1<t2)\n",
        "print(-t1)\n",
        "print(abs(-t1))"
      ]
    },
    {
      "cell_type": "code",
      "execution_count": 30,
      "metadata": {
        "colab": {
          "base_uri": "https://localhost:8080/"
        },
        "id": "QNXTPG0W-Q99",
        "outputId": "563415d2-c635-47ae-80a9-aad9d0a956ee"
      },
      "outputs": [
        {
          "name": "stdout",
          "output_type": "stream",
          "text": [
            "tf.Tensor(False, shape=(), dtype=bool)\n",
            "tf.Tensor(True, shape=(), dtype=bool)\n",
            "tf.Tensor(True, shape=(), dtype=bool)\n"
          ]
        }
      ],
      "source": [
        "#boolean operations\n",
        "t3 = tf.constant(True)\n",
        "t4 = tf.constant(False)\n",
        "print(t3 & t4)\n",
        "print(t3 | t4)\n",
        "print(~t4)\n"
      ]
    },
    {
      "cell_type": "code",
      "execution_count": 42,
      "metadata": {
        "colab": {
          "base_uri": "https://localhost:8080/"
        },
        "id": "lepk6Uj5BQW1",
        "outputId": "4757cca0-0246-4d91-e640-7955effd2bbe"
      },
      "outputs": [
        {
          "name": "stdout",
          "output_type": "stream",
          "text": [
            "tf.Tensor([1 2 3], shape=(3,), dtype=int32)\n",
            "tf.Tensor(2, shape=(), dtype=int32)\n",
            "2\n",
            "tf.Tensor([3 2 1], shape=(3,), dtype=int32)\n",
            "tf.Tensor(\n",
            "[[[ 0.39188352 -1.698322    0.616171  ]\n",
            "  [ 0.68072784 -1.2283857  -1.4525007 ]]], shape=(1, 2, 3), dtype=float32)\n"
          ]
        }
      ],
      "source": [
        "#indexing\n",
        "print(rank_1_tensor)\n",
        "print(rank_1_tensor[-2])\n",
        "print(rank_1_tensor[-2].numpy())\n",
        "print(tf.random.shuffle(rank_1_tensor))\n",
        "print(tf.random.normal(rank_1_tensor))"
      ]
    },
    {
      "cell_type": "code",
      "execution_count": 38,
      "metadata": {
        "colab": {
          "base_uri": "https://localhost:8080/"
        },
        "id": "sLgdeT9fCsD4",
        "outputId": "ac5c5c72-3fdb-4321-8f28-c6f42724e559"
      },
      "outputs": [
        {
          "name": "stdout",
          "output_type": "stream",
          "text": [
            "tf.Tensor(\n",
            "[[1 2 3]\n",
            " [4 5 6]], shape=(2, 3), dtype=int32)\n",
            "tf.Tensor([2 5], shape=(2,), dtype=int32)\n"
          ]
        }
      ],
      "source": [
        "print(rank_2_tensor)\n",
        "print(rank_2_tensor[:,1]) #middle column"
      ]
    },
    {
      "cell_type": "code",
      "execution_count": 45,
      "metadata": {
        "colab": {
          "base_uri": "https://localhost:8080/"
        },
        "id": "m_iRNFYWC4Cw",
        "outputId": "46f6d365-c5a0-4679-818e-6394affd1cc3"
      },
      "outputs": [
        {
          "name": "stdout",
          "output_type": "stream",
          "text": [
            "tf.Tensor(\n",
            "[[ 9.678548   8.904821 ]\n",
            " [10.908193   9.623271 ]\n",
            " [ 9.734722   9.5231695]], shape=(3, 2), dtype=float32)\n"
          ]
        }
      ],
      "source": [
        "tensor = tf.random.normal([3, 2], mean=10.0, stddev=2.0)\n",
        "print(tensor)"
      ]
    }
  ],
  "metadata": {
    "accelerator": "GPU",
    "colab": {
      "gpuType": "T4",
      "provenance": []
    },
    "kernelspec": {
      "display_name": "Python 3",
      "name": "python3"
    },
    "language_info": {
      "name": "python",
      "version": "3.10.0"
    }
  },
  "nbformat": 4,
  "nbformat_minor": 0
}
