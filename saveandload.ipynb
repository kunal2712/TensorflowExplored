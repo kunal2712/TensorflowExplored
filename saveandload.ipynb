{
 "cells": [
  {
   "cell_type": "code",
   "execution_count": 54,
   "metadata": {},
   "outputs": [],
   "source": [
    "import tensorflow \n",
    "from tensorflow import keras\n",
    "from keras.models import save_model , Sequential\n",
    "from keras.layers import Dense\n",
    "from keras import layers\n",
    "import pandas as pd\n",
    "import numpy as np\n",
    "from sklearn.model_selection import train_test_split\n",
    "from sklearn.datasets import load_iris"
   ]
  },
  {
   "cell_type": "code",
   "execution_count": 47,
   "metadata": {},
   "outputs": [],
   "source": [
    "data = load_iris()\n",
    "\n",
    "x = pd.DataFrame(data=data.data , columns = data.feature_names)\n",
    "y  = data.target"
   ]
  },
  {
   "cell_type": "code",
   "execution_count": 48,
   "metadata": {},
   "outputs": [
    {
     "data": {
      "text/html": [
       "<div>\n",
       "<style scoped>\n",
       "    .dataframe tbody tr th:only-of-type {\n",
       "        vertical-align: middle;\n",
       "    }\n",
       "\n",
       "    .dataframe tbody tr th {\n",
       "        vertical-align: top;\n",
       "    }\n",
       "\n",
       "    .dataframe thead th {\n",
       "        text-align: right;\n",
       "    }\n",
       "</style>\n",
       "<table border=\"1\" class=\"dataframe\">\n",
       "  <thead>\n",
       "    <tr style=\"text-align: right;\">\n",
       "      <th></th>\n",
       "      <th>sepal length (cm)</th>\n",
       "      <th>sepal width (cm)</th>\n",
       "      <th>petal length (cm)</th>\n",
       "      <th>petal width (cm)</th>\n",
       "    </tr>\n",
       "  </thead>\n",
       "  <tbody>\n",
       "    <tr>\n",
       "      <th>0</th>\n",
       "      <td>5.1</td>\n",
       "      <td>3.5</td>\n",
       "      <td>1.4</td>\n",
       "      <td>0.2</td>\n",
       "    </tr>\n",
       "    <tr>\n",
       "      <th>1</th>\n",
       "      <td>4.9</td>\n",
       "      <td>3.0</td>\n",
       "      <td>1.4</td>\n",
       "      <td>0.2</td>\n",
       "    </tr>\n",
       "    <tr>\n",
       "      <th>2</th>\n",
       "      <td>4.7</td>\n",
       "      <td>3.2</td>\n",
       "      <td>1.3</td>\n",
       "      <td>0.2</td>\n",
       "    </tr>\n",
       "    <tr>\n",
       "      <th>3</th>\n",
       "      <td>4.6</td>\n",
       "      <td>3.1</td>\n",
       "      <td>1.5</td>\n",
       "      <td>0.2</td>\n",
       "    </tr>\n",
       "    <tr>\n",
       "      <th>4</th>\n",
       "      <td>5.0</td>\n",
       "      <td>3.6</td>\n",
       "      <td>1.4</td>\n",
       "      <td>0.2</td>\n",
       "    </tr>\n",
       "  </tbody>\n",
       "</table>\n",
       "</div>"
      ],
      "text/plain": [
       "   sepal length (cm)  sepal width (cm)  petal length (cm)  petal width (cm)\n",
       "0                5.1               3.5                1.4               0.2\n",
       "1                4.9               3.0                1.4               0.2\n",
       "2                4.7               3.2                1.3               0.2\n",
       "3                4.6               3.1                1.5               0.2\n",
       "4                5.0               3.6                1.4               0.2"
      ]
     },
     "execution_count": 48,
     "metadata": {},
     "output_type": "execute_result"
    }
   ],
   "source": [
    "x.head()"
   ]
  },
  {
   "cell_type": "code",
   "execution_count": 49,
   "metadata": {},
   "outputs": [
    {
     "data": {
      "text/plain": [
       "array([0, 0, 0, 0, 0])"
      ]
     },
     "execution_count": 49,
     "metadata": {},
     "output_type": "execute_result"
    }
   ],
   "source": [
    "y[:5]"
   ]
  },
  {
   "cell_type": "code",
   "execution_count": 50,
   "metadata": {},
   "outputs": [],
   "source": [
    "x_train, x_test , y_train, y_test = train_test_split(x,y,test_size=0.2)"
   ]
  },
  {
   "cell_type": "code",
   "execution_count": 60,
   "metadata": {},
   "outputs": [],
   "source": [
    "model = keras.Sequential([\n",
    "    layers.Dense(32 ,input_shape=(4,), activation='relu'),\n",
    "    layers.Dense(3, activation='softmax')\n",
    "])\n"
   ]
  },
  {
   "cell_type": "code",
   "execution_count": 64,
   "metadata": {},
   "outputs": [],
   "source": [
    "model.compile(optimizer='adam', loss='sparse_categorical_crossentropy', metrics=['accuracy'])"
   ]
  },
  {
   "cell_type": "code",
   "execution_count": 65,
   "metadata": {},
   "outputs": [
    {
     "name": "stdout",
     "output_type": "stream",
     "text": [
      "Epoch 1/50\n",
      "4/4 [==============================] - 8s 1s/step - loss: 1.4575 - accuracy: 0.3167 - val_loss: 1.3471 - val_accuracy: 0.4000\n",
      "Epoch 2/50\n",
      "4/4 [==============================] - 0s 17ms/step - loss: 1.3437 - accuracy: 0.4750 - val_loss: 1.2650 - val_accuracy: 0.6333\n",
      "Epoch 3/50\n",
      "4/4 [==============================] - 0s 12ms/step - loss: 1.2530 - accuracy: 0.6667 - val_loss: 1.1940 - val_accuracy: 0.6667\n",
      "Epoch 4/50\n",
      "4/4 [==============================] - 0s 11ms/step - loss: 1.1643 - accuracy: 0.6667 - val_loss: 1.1293 - val_accuracy: 0.6667\n",
      "Epoch 5/50\n",
      "4/4 [==============================] - 0s 11ms/step - loss: 1.1017 - accuracy: 0.6667 - val_loss: 1.0647 - val_accuracy: 0.6667\n",
      "Epoch 6/50\n",
      "4/4 [==============================] - 0s 15ms/step - loss: 1.0225 - accuracy: 0.6667 - val_loss: 1.0052 - val_accuracy: 0.6667\n",
      "Epoch 7/50\n",
      "4/4 [==============================] - 0s 12ms/step - loss: 0.9633 - accuracy: 0.6667 - val_loss: 0.9496 - val_accuracy: 0.6667\n",
      "Epoch 8/50\n",
      "4/4 [==============================] - 0s 14ms/step - loss: 0.9119 - accuracy: 0.6667 - val_loss: 0.9001 - val_accuracy: 0.6667\n",
      "Epoch 9/50\n",
      "4/4 [==============================] - 0s 12ms/step - loss: 0.8612 - accuracy: 0.6667 - val_loss: 0.8609 - val_accuracy: 0.6667\n",
      "Epoch 10/50\n",
      "4/4 [==============================] - 0s 17ms/step - loss: 0.8312 - accuracy: 0.6750 - val_loss: 0.8262 - val_accuracy: 0.6333\n",
      "Epoch 11/50\n",
      "4/4 [==============================] - 0s 13ms/step - loss: 0.8006 - accuracy: 0.6917 - val_loss: 0.7987 - val_accuracy: 0.7667\n",
      "Epoch 12/50\n",
      "4/4 [==============================] - 0s 17ms/step - loss: 0.7788 - accuracy: 0.7667 - val_loss: 0.7706 - val_accuracy: 0.8333\n",
      "Epoch 13/50\n",
      "4/4 [==============================] - 0s 10ms/step - loss: 0.7563 - accuracy: 0.8250 - val_loss: 0.7443 - val_accuracy: 0.8667\n",
      "Epoch 14/50\n",
      "4/4 [==============================] - 0s 12ms/step - loss: 0.7330 - accuracy: 0.8417 - val_loss: 0.7213 - val_accuracy: 0.9000\n",
      "Epoch 15/50\n",
      "4/4 [==============================] - 0s 11ms/step - loss: 0.7126 - accuracy: 0.8417 - val_loss: 0.6991 - val_accuracy: 0.9000\n",
      "Epoch 16/50\n",
      "4/4 [==============================] - 0s 10ms/step - loss: 0.6919 - accuracy: 0.8417 - val_loss: 0.6765 - val_accuracy: 0.9000\n",
      "Epoch 17/50\n",
      "4/4 [==============================] - 0s 13ms/step - loss: 0.6730 - accuracy: 0.8583 - val_loss: 0.6564 - val_accuracy: 0.9000\n",
      "Epoch 18/50\n",
      "4/4 [==============================] - 0s 12ms/step - loss: 0.6561 - accuracy: 0.8667 - val_loss: 0.6379 - val_accuracy: 0.9000\n",
      "Epoch 19/50\n",
      "4/4 [==============================] - 0s 14ms/step - loss: 0.6398 - accuracy: 0.8333 - val_loss: 0.6206 - val_accuracy: 0.9000\n",
      "Epoch 20/50\n",
      "4/4 [==============================] - 0s 14ms/step - loss: 0.6253 - accuracy: 0.8417 - val_loss: 0.6045 - val_accuracy: 0.9000\n",
      "Epoch 21/50\n",
      "4/4 [==============================] - 0s 10ms/step - loss: 0.6120 - accuracy: 0.8583 - val_loss: 0.5898 - val_accuracy: 0.9000\n",
      "Epoch 22/50\n",
      "4/4 [==============================] - 0s 15ms/step - loss: 0.5988 - accuracy: 0.8750 - val_loss: 0.5767 - val_accuracy: 0.9000\n",
      "Epoch 23/50\n",
      "4/4 [==============================] - 0s 11ms/step - loss: 0.5872 - accuracy: 0.8583 - val_loss: 0.5649 - val_accuracy: 0.9000\n",
      "Epoch 24/50\n",
      "4/4 [==============================] - 0s 17ms/step - loss: 0.5753 - accuracy: 0.8583 - val_loss: 0.5529 - val_accuracy: 0.9000\n",
      "Epoch 25/50\n",
      "4/4 [==============================] - 0s 17ms/step - loss: 0.5648 - accuracy: 0.8500 - val_loss: 0.5421 - val_accuracy: 0.9000\n",
      "Epoch 26/50\n",
      "4/4 [==============================] - 0s 15ms/step - loss: 0.5545 - accuracy: 0.8833 - val_loss: 0.5306 - val_accuracy: 0.9000\n",
      "Epoch 27/50\n",
      "4/4 [==============================] - 0s 11ms/step - loss: 0.5448 - accuracy: 0.9000 - val_loss: 0.5202 - val_accuracy: 0.9333\n",
      "Epoch 28/50\n",
      "4/4 [==============================] - 0s 17ms/step - loss: 0.5355 - accuracy: 0.9083 - val_loss: 0.5109 - val_accuracy: 0.9000\n",
      "Epoch 29/50\n",
      "4/4 [==============================] - 0s 14ms/step - loss: 0.5267 - accuracy: 0.9000 - val_loss: 0.5013 - val_accuracy: 0.9333\n",
      "Epoch 30/50\n",
      "4/4 [==============================] - 0s 13ms/step - loss: 0.5186 - accuracy: 0.9083 - val_loss: 0.4925 - val_accuracy: 0.9333\n",
      "Epoch 31/50\n",
      "4/4 [==============================] - 0s 10ms/step - loss: 0.5103 - accuracy: 0.9083 - val_loss: 0.4840 - val_accuracy: 0.9333\n",
      "Epoch 32/50\n",
      "4/4 [==============================] - 0s 11ms/step - loss: 0.5026 - accuracy: 0.9167 - val_loss: 0.4760 - val_accuracy: 0.9333\n",
      "Epoch 33/50\n",
      "4/4 [==============================] - 0s 11ms/step - loss: 0.4954 - accuracy: 0.9250 - val_loss: 0.4681 - val_accuracy: 0.9333\n",
      "Epoch 34/50\n",
      "4/4 [==============================] - 0s 11ms/step - loss: 0.4889 - accuracy: 0.9250 - val_loss: 0.4606 - val_accuracy: 0.9333\n",
      "Epoch 35/50\n",
      "4/4 [==============================] - 0s 17ms/step - loss: 0.4834 - accuracy: 0.9083 - val_loss: 0.4550 - val_accuracy: 0.9333\n",
      "Epoch 36/50\n",
      "4/4 [==============================] - 0s 16ms/step - loss: 0.4759 - accuracy: 0.9167 - val_loss: 0.4479 - val_accuracy: 0.9333\n",
      "Epoch 37/50\n",
      "4/4 [==============================] - 0s 12ms/step - loss: 0.4694 - accuracy: 0.9167 - val_loss: 0.4415 - val_accuracy: 0.9333\n",
      "Epoch 38/50\n",
      "4/4 [==============================] - 0s 11ms/step - loss: 0.4634 - accuracy: 0.9250 - val_loss: 0.4349 - val_accuracy: 0.9333\n",
      "Epoch 39/50\n",
      "4/4 [==============================] - 0s 11ms/step - loss: 0.4581 - accuracy: 0.9250 - val_loss: 0.4283 - val_accuracy: 0.9333\n",
      "Epoch 40/50\n",
      "4/4 [==============================] - 0s 11ms/step - loss: 0.4526 - accuracy: 0.9250 - val_loss: 0.4225 - val_accuracy: 0.9333\n",
      "Epoch 41/50\n",
      "4/4 [==============================] - 0s 16ms/step - loss: 0.4477 - accuracy: 0.9250 - val_loss: 0.4169 - val_accuracy: 0.9333\n",
      "Epoch 42/50\n",
      "4/4 [==============================] - 0s 28ms/step - loss: 0.4425 - accuracy: 0.9333 - val_loss: 0.4122 - val_accuracy: 0.9333\n",
      "Epoch 43/50\n",
      "4/4 [==============================] - 0s 17ms/step - loss: 0.4373 - accuracy: 0.9250 - val_loss: 0.4077 - val_accuracy: 0.9333\n",
      "Epoch 44/50\n",
      "4/4 [==============================] - 0s 11ms/step - loss: 0.4324 - accuracy: 0.9250 - val_loss: 0.4033 - val_accuracy: 0.9333\n",
      "Epoch 45/50\n",
      "4/4 [==============================] - 0s 11ms/step - loss: 0.4277 - accuracy: 0.9250 - val_loss: 0.3989 - val_accuracy: 0.9333\n",
      "Epoch 46/50\n",
      "4/4 [==============================] - 0s 17ms/step - loss: 0.4237 - accuracy: 0.9250 - val_loss: 0.3950 - val_accuracy: 0.9333\n",
      "Epoch 47/50\n",
      "4/4 [==============================] - 0s 22ms/step - loss: 0.4191 - accuracy: 0.9250 - val_loss: 0.3903 - val_accuracy: 0.9333\n",
      "Epoch 48/50\n",
      "4/4 [==============================] - 0s 17ms/step - loss: 0.4145 - accuracy: 0.9250 - val_loss: 0.3849 - val_accuracy: 0.9333\n",
      "Epoch 49/50\n",
      "4/4 [==============================] - 0s 17ms/step - loss: 0.4100 - accuracy: 0.9250 - val_loss: 0.3799 - val_accuracy: 0.9333\n",
      "Epoch 50/50\n",
      "4/4 [==============================] - 0s 14ms/step - loss: 0.4061 - accuracy: 0.9333 - val_loss: 0.3748 - val_accuracy: 0.9333\n"
     ]
    },
    {
     "data": {
      "text/plain": [
       "<keras.callbacks.History at 0x25825ae4e80>"
      ]
     },
     "execution_count": 65,
     "metadata": {},
     "output_type": "execute_result"
    }
   ],
   "source": [
    "model.fit(x_train,y_train ,validation_data=(x_test,y_test), epochs=50)"
   ]
  },
  {
   "cell_type": "code",
   "execution_count": 66,
   "metadata": {},
   "outputs": [
    {
     "name": "stderr",
     "output_type": "stream",
     "text": [
      "WARNING:absl:Found untraced functions such as _update_step_xla while saving (showing 1 of 1). These functions will not be directly callable after loading.\n"
     ]
    },
    {
     "name": "stdout",
     "output_type": "stream",
     "text": [
      "INFO:tensorflow:Assets written to: my_model.tf\\assets\n"
     ]
    },
    {
     "name": "stderr",
     "output_type": "stream",
     "text": [
      "INFO:tensorflow:Assets written to: my_model.tf\\assets\n"
     ]
    }
   ],
   "source": [
    "model.save('my_model.tf')"
   ]
  },
  {
   "cell_type": "code",
   "execution_count": 67,
   "metadata": {},
   "outputs": [],
   "source": [
    "loaded_model = keras.models.load_model('my_model.tf')"
   ]
  },
  {
   "cell_type": "code",
   "execution_count": 68,
   "metadata": {},
   "outputs": [
    {
     "name": "stdout",
     "output_type": "stream",
     "text": [
      "Model: \"sequential_10\"\n",
      "_________________________________________________________________\n",
      " Layer (type)                Output Shape              Param #   \n",
      "=================================================================\n",
      " dense_21 (Dense)            (None, 32)                160       \n",
      "                                                                 \n",
      " dense_22 (Dense)            (None, 3)                 99        \n",
      "                                                                 \n",
      "=================================================================\n",
      "Total params: 259\n",
      "Trainable params: 259\n",
      "Non-trainable params: 0\n",
      "_________________________________________________________________\n"
     ]
    }
   ],
   "source": [
    "loaded_model.summary()"
   ]
  },
  {
   "cell_type": "code",
   "execution_count": 70,
   "metadata": {},
   "outputs": [
    {
     "name": "stdout",
     "output_type": "stream",
     "text": [
      "1/1 [==============================] - 0s 24ms/step - loss: 0.3748 - accuracy: 0.9333\n",
      "Accuracy :  0.9333333373069763\n"
     ]
    }
   ],
   "source": [
    "print(\"Accuracy : \" ,loaded_model.evaluate(x_test,y_test)[1])"
   ]
  }
 ],
 "metadata": {
  "kernelspec": {
   "display_name": "Python 3",
   "language": "python",
   "name": "python3"
  },
  "language_info": {
   "codemirror_mode": {
    "name": "ipython",
    "version": 3
   },
   "file_extension": ".py",
   "mimetype": "text/x-python",
   "name": "python",
   "nbconvert_exporter": "python",
   "pygments_lexer": "ipython3",
   "version": "3.10.0"
  }
 },
 "nbformat": 4,
 "nbformat_minor": 2
}
