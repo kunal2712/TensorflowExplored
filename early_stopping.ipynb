{
 "cells": [
  {
   "cell_type": "code",
   "execution_count": 1,
   "metadata": {},
   "outputs": [],
   "source": [
    "import numpy as np\n",
    "import tensorflow as tf\n",
    "from tensorflow import keras\n",
    "from keras.datasets import fashion_mnist\n",
    "from keras.layers import Dense, Flatten , Dropout\n",
    "from keras.callbacks import EarlyStopping\n",
    "from keras.preprocessing.image import ImageDataGenerator"
   ]
  },
  {
   "cell_type": "code",
   "execution_count": 2,
   "metadata": {},
   "outputs": [],
   "source": [
    "(train_data , train_labels) ,(test_data , test_labels) = fashion_mnist.load_data()\n",
    "train_data = np.reshape(train_data, (train_data.shape[0],28,28,1))"
   ]
  },
  {
   "cell_type": "code",
   "execution_count": 3,
   "metadata": {},
   "outputs": [],
   "source": [
    "train_data =  train_data/255.0\n",
    "test_data = test_data/255.0"
   ]
  },
  {
   "cell_type": "code",
   "execution_count": 4,
   "metadata": {},
   "outputs": [],
   "source": [
    "#define the data augmentation generator\n",
    "datagen = ImageDataGenerator(\n",
    "    rotation_range=10,\n",
    "    width_shift_range=0.1,\n",
    "    height_shift_range=0.1,\n",
    "    shear_range=0.2,\n",
    "    zoom_range=0.2,\n",
    "    horizontal_flip=True,\n",
    "    fill_mode='nearest'\n",
    ")"
   ]
  },
  {
   "cell_type": "code",
   "execution_count": 5,
   "metadata": {},
   "outputs": [],
   "source": [
    "model = keras.Sequential([\n",
    "    Flatten(input_shape=(28,28)),\n",
    "    Dense(128 , activation='relu'),\n",
    "    Dropout(0.5),\n",
    "    Dense(10, activation='softmax')\n",
    "])"
   ]
  },
  {
   "cell_type": "code",
   "execution_count": 6,
   "metadata": {},
   "outputs": [],
   "source": [
    "model.compile(optimizer='adam', metrics=['accuracy'], loss='sparse_categorical_crossentropy')\n"
   ]
  },
  {
   "cell_type": "code",
   "execution_count": 7,
   "metadata": {},
   "outputs": [
    {
     "name": "stdout",
     "output_type": "stream",
     "text": [
      "Epoch 1/50\n",
      "WARNING:tensorflow:Model was constructed with shape (None, 28, 28) for input KerasTensor(type_spec=TensorSpec(shape=(None, 28, 28), dtype=tf.float32, name='flatten_input'), name='flatten_input', description=\"created by layer 'flatten_input'\"), but it was called on an input with incompatible shape (None, None, None, None).\n",
      "WARNING:tensorflow:Model was constructed with shape (None, 28, 28) for input KerasTensor(type_spec=TensorSpec(shape=(None, 28, 28), dtype=tf.float32, name='flatten_input'), name='flatten_input', description=\"created by layer 'flatten_input'\"), but it was called on an input with incompatible shape (None, None, None, None).\n",
      "1875/1875 [==============================] - 41s 21ms/step - loss: 1.0721 - accuracy: 0.5997 - val_loss: 0.6775 - val_accuracy: 0.7412\n",
      "Epoch 2/50\n",
      "1875/1875 [==============================] - 47s 25ms/step - loss: 0.8932 - accuracy: 0.6630 - val_loss: 0.6354 - val_accuracy: 0.7594\n",
      "Epoch 3/50\n",
      "1875/1875 [==============================] - 38s 20ms/step - loss: 0.8571 - accuracy: 0.6741 - val_loss: 0.6156 - val_accuracy: 0.7695\n",
      "Epoch 4/50\n",
      "1875/1875 [==============================] - 37s 20ms/step - loss: 0.8383 - accuracy: 0.6838 - val_loss: 0.5999 - val_accuracy: 0.7778\n",
      "Epoch 5/50\n",
      "1875/1875 [==============================] - 35s 19ms/step - loss: 0.8212 - accuracy: 0.6898 - val_loss: 0.5923 - val_accuracy: 0.7892\n",
      "Epoch 6/50\n",
      "1875/1875 [==============================] - 37s 20ms/step - loss: 0.8114 - accuracy: 0.6938 - val_loss: 0.5725 - val_accuracy: 0.7975\n",
      "Epoch 7/50\n",
      "1875/1875 [==============================] - 33s 18ms/step - loss: 0.8120 - accuracy: 0.6950 - val_loss: 0.5646 - val_accuracy: 0.7878\n",
      "Epoch 8/50\n",
      "1875/1875 [==============================] - 35s 18ms/step - loss: 0.7967 - accuracy: 0.7002 - val_loss: 0.5665 - val_accuracy: 0.7880\n",
      "Epoch 9/50\n",
      "1875/1875 [==============================] - 37s 20ms/step - loss: 0.7951 - accuracy: 0.6989 - val_loss: 0.5638 - val_accuracy: 0.7920\n",
      "Epoch 10/50\n",
      "1875/1875 [==============================] - 34s 18ms/step - loss: 0.7893 - accuracy: 0.7020 - val_loss: 0.5526 - val_accuracy: 0.8000\n",
      "Epoch 11/50\n",
      "1875/1875 [==============================] - 34s 18ms/step - loss: 0.7800 - accuracy: 0.7055 - val_loss: 0.5503 - val_accuracy: 0.7930\n",
      "Epoch 12/50\n",
      "1875/1875 [==============================] - 32s 17ms/step - loss: 0.7837 - accuracy: 0.7045 - val_loss: 0.5441 - val_accuracy: 0.7949\n",
      "Epoch 13/50\n",
      "1875/1875 [==============================] - 30s 16ms/step - loss: 0.7776 - accuracy: 0.7057 - val_loss: 0.5453 - val_accuracy: 0.7962\n",
      "Epoch 14/50\n",
      "1875/1875 [==============================] - 30s 16ms/step - loss: 0.7761 - accuracy: 0.7089 - val_loss: 0.5470 - val_accuracy: 0.7956\n",
      "Epoch 15/50\n",
      "1875/1875 [==============================] - 33s 18ms/step - loss: 0.7746 - accuracy: 0.7099 - val_loss: 0.5417 - val_accuracy: 0.8014\n",
      "Epoch 16/50\n",
      "1875/1875 [==============================] - 31s 16ms/step - loss: 0.7705 - accuracy: 0.7107 - val_loss: 0.5380 - val_accuracy: 0.7982\n",
      "Epoch 17/50\n",
      "1875/1875 [==============================] - 32s 17ms/step - loss: 0.7666 - accuracy: 0.7101 - val_loss: 0.5294 - val_accuracy: 0.8039\n",
      "Epoch 18/50\n",
      "1875/1875 [==============================] - 27s 15ms/step - loss: 0.7690 - accuracy: 0.7127 - val_loss: 0.5329 - val_accuracy: 0.8067\n",
      "Epoch 19/50\n",
      "1875/1875 [==============================] - 29s 15ms/step - loss: 0.7653 - accuracy: 0.7124 - val_loss: 0.5328 - val_accuracy: 0.8015\n",
      "Epoch 20/50\n",
      "1875/1875 [==============================] - 29s 15ms/step - loss: 0.7620 - accuracy: 0.7150 - val_loss: 0.5313 - val_accuracy: 0.8034\n"
     ]
    }
   ],
   "source": [
    "#define early stopping callback\n",
    "early_stopping = EarlyStopping(monitor='val_loss', patience=3)\n",
    "\n",
    "#fit the model \n",
    "\n",
    "history  = model.fit(datagen.flow(train_data,train_labels, batch_size=32),\n",
    "                     epochs=50,\n",
    "                     steps_per_epoch=len(train_data)/32 ,\n",
    "                    validation_data = (test_data,test_labels),\n",
    "                     callbacks=[early_stopping]\n",
    ")"
   ]
  }
 ],
 "metadata": {
  "kernelspec": {
   "display_name": "Python 3",
   "language": "python",
   "name": "python3"
  },
  "language_info": {
   "codemirror_mode": {
    "name": "ipython",
    "version": 3
   },
   "file_extension": ".py",
   "mimetype": "text/x-python",
   "name": "python",
   "nbconvert_exporter": "python",
   "pygments_lexer": "ipython3",
   "version": "3.10.0"
  }
 },
 "nbformat": 4,
 "nbformat_minor": 2
}
